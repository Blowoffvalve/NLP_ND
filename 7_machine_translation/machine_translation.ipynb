{
 "cells": [
  {
   "cell_type": "markdown",
   "metadata": {},
   "source": [
    "# Artificial Intelligence Nanodegree\n",
    "## Machine Translation Project\n",
    "In this notebook, sections that end with **'(IMPLEMENTATION)'** in the header indicate that the following blocks of code will require additional functionality which you must provide. Please be sure to read the instructions carefully!\n",
    "\n",
    "## Introduction\n",
    "In this notebook, you will build a deep neural network that functions as part of an end-to-end machine translation pipeline. Your completed pipeline will accept English text as input and return the French translation.\n",
    "\n",
    "- **Preprocess** - You'll convert text to sequence of integers.\n",
    "- **Models** Create models which accepts a sequence of integers as input and returns a probability distribution over possible translations. After learning about the basic types of neural networks that are often used for machine translation, you will engage in your own investigations, to design your own model!\n",
    "- **Prediction** Run the model on English text."
   ]
  },
  {
   "cell_type": "code",
   "execution_count": 3,
   "metadata": {},
   "outputs": [],
   "source": [
    "%load_ext autoreload\n",
    "%aimport helper, tests\n",
    "%autoreload 1"
   ]
  },
  {
   "cell_type": "code",
   "execution_count": 4,
   "metadata": {},
   "outputs": [],
   "source": [
    "%reload_ext autoreload"
   ]
  },
  {
   "cell_type": "code",
   "execution_count": 5,
   "metadata": {},
   "outputs": [
    {
     "name": "stderr",
     "output_type": "stream",
     "text": [
      "Using TensorFlow backend.\n"
     ]
    }
   ],
   "source": [
    "import collections\n",
    "\n",
    "import helper\n",
    "import numpy as np\n",
    "import project_tests as tests\n",
    "\n",
    "from keras.preprocessing.text import Tokenizer\n",
    "from keras.preprocessing.sequence import pad_sequences\n",
    "from keras.models import Model, Sequential\n",
    "from keras.layers import GRU, Input, Dense, TimeDistributed, Activation, RepeatVector, Bidirectional\n",
    "from keras.layers.embeddings import Embedding\n",
    "from keras.optimizers import Adam\n",
    "from keras.losses import sparse_categorical_crossentropy"
   ]
  },
  {
   "cell_type": "markdown",
   "metadata": {},
   "source": [
    "### Verify access to the GPU\n",
    "The following test applies only if you expect to be using a GPU, e.g., while running in a Udacity Workspace or using an AWS instance with GPU support. Run the next cell, and verify that the device_type is \"GPU\".\n",
    "- If the device is not GPU & you are running from a Udacity Workspace, then save your workspace with the icon at the top, then click \"enable\" at the bottom of the workspace.\n",
    "- If the device is not GPU & you are running from an AWS instance, then refer to the cloud computing instructions in the classroom to verify your setup steps."
   ]
  },
  {
   "cell_type": "code",
   "execution_count": 6,
   "metadata": {},
   "outputs": [
    {
     "name": "stdout",
     "output_type": "stream",
     "text": [
      "[name: \"/device:CPU:0\"\n",
      "device_type: \"CPU\"\n",
      "memory_limit: 268435456\n",
      "locality {\n",
      "}\n",
      "incarnation: 18395760602512765238\n",
      ", name: \"/device:XLA_CPU:0\"\n",
      "device_type: \"XLA_CPU\"\n",
      "memory_limit: 17179869184\n",
      "locality {\n",
      "}\n",
      "incarnation: 1387571350424346906\n",
      "physical_device_desc: \"device: XLA_CPU device\"\n",
      ", name: \"/device:XLA_GPU:0\"\n",
      "device_type: \"XLA_GPU\"\n",
      "memory_limit: 17179869184\n",
      "locality {\n",
      "}\n",
      "incarnation: 15143389433889598191\n",
      "physical_device_desc: \"device: XLA_GPU device\"\n",
      ", name: \"/device:XLA_GPU:1\"\n",
      "device_type: \"XLA_GPU\"\n",
      "memory_limit: 17179869184\n",
      "locality {\n",
      "}\n",
      "incarnation: 13927042925124486610\n",
      "physical_device_desc: \"device: XLA_GPU device\"\n",
      ", name: \"/device:GPU:0\"\n",
      "device_type: \"GPU\"\n",
      "memory_limit: 7830775399\n",
      "locality {\n",
      "  bus_id: 1\n",
      "  links {\n",
      "  }\n",
      "}\n",
      "incarnation: 16589964105137481782\n",
      "physical_device_desc: \"device: 0, name: GeForce RTX 2080, pci bus id: 0000:03:00.0, compute capability: 7.5\"\n",
      "]\n"
     ]
    }
   ],
   "source": [
    "from tensorflow.python.client import device_lib\n",
    "print(device_lib.list_local_devices())"
   ]
  },
  {
   "cell_type": "markdown",
   "metadata": {},
   "source": [
    "## Dataset\n",
    "We begin by investigating the dataset that will be used to train and evaluate your pipeline.  The most common datasets used for machine translation are from [WMT](http://www.statmt.org/).  However, that will take a long time to train a neural network on.  We'll be using a dataset we created for this project that contains a small vocabulary.  You'll be able to train your model in a reasonable time with this dataset.\n",
    "### Load Data\n",
    "The data is located in `data/small_vocab_en` and `data/small_vocab_fr`. The `small_vocab_en` file contains English sentences with their French translations in the `small_vocab_fr` file. Load the English and French data from these files from running the cell below."
   ]
  },
  {
   "cell_type": "code",
   "execution_count": 7,
   "metadata": {},
   "outputs": [
    {
     "name": "stdout",
     "output_type": "stream",
     "text": [
      "Dataset Loaded\n"
     ]
    }
   ],
   "source": [
    "# Load English data\n",
    "english_sentences = helper.load_data('data/small_vocab_en')\n",
    "# Load French data\n",
    "french_sentences = helper.load_data('data/small_vocab_fr')\n",
    "\n",
    "print('Dataset Loaded')"
   ]
  },
  {
   "cell_type": "markdown",
   "metadata": {},
   "source": [
    "### Files\n",
    "Each line in `small_vocab_en` contains an English sentence with the respective translation in each line of `small_vocab_fr`.  View the first two lines from each file."
   ]
  },
  {
   "cell_type": "code",
   "execution_count": 8,
   "metadata": {},
   "outputs": [
    {
     "name": "stdout",
     "output_type": "stream",
     "text": [
      "small_vocab_en Line 1:  new jersey is sometimes quiet during autumn , and it is snowy in april .\n",
      "small_vocab_fr Line 1:  new jersey est parfois calme pendant l' automne , et il est neigeux en avril .\n",
      "small_vocab_en Line 2:  the united states is usually chilly during july , and it is usually freezing in november .\n",
      "small_vocab_fr Line 2:  les états-unis est généralement froid en juillet , et il gèle habituellement en novembre .\n"
     ]
    }
   ],
   "source": [
    "for sample_i in range(2):\n",
    "    print('small_vocab_en Line {}:  {}'.format(sample_i + 1, english_sentences[sample_i]))\n",
    "    print('small_vocab_fr Line {}:  {}'.format(sample_i + 1, french_sentences[sample_i]))"
   ]
  },
  {
   "cell_type": "markdown",
   "metadata": {},
   "source": [
    "From looking at the sentences, you can see they have been preprocessed already.  The puncuations have been delimited using spaces. All the text have been converted to lowercase.  This should save you some time, but the text requires more preprocessing.\n",
    "### Vocabulary\n",
    "The complexity of the problem is determined by the complexity of the vocabulary.  A more complex vocabulary is a more complex problem.  Let's look at the complexity of the dataset we'll be working with."
   ]
  },
  {
   "cell_type": "code",
   "execution_count": 9,
   "metadata": {},
   "outputs": [
    {
     "name": "stdout",
     "output_type": "stream",
     "text": [
      "1823250 English words.\n",
      "227 unique English words.\n",
      "10 Most common words in the English dataset:\n",
      "\"is\" \",\" \".\" \"in\" \"it\" \"during\" \"the\" \"but\" \"and\" \"sometimes\"\n",
      "\n",
      "1961295 French words.\n",
      "355 unique French words.\n",
      "10 Most common words in the French dataset:\n",
      "\"est\" \".\" \",\" \"en\" \"il\" \"les\" \"mais\" \"et\" \"la\" \"parfois\"\n"
     ]
    }
   ],
   "source": [
    "english_words_counter = collections.Counter([word for sentence in english_sentences for word in sentence.split()])\n",
    "french_words_counter = collections.Counter([word for sentence in french_sentences for word in sentence.split()])\n",
    "\n",
    "print('{} English words.'.format(len([word for sentence in english_sentences for word in sentence.split()])))\n",
    "print('{} unique English words.'.format(len(english_words_counter)))\n",
    "print('10 Most common words in the English dataset:')\n",
    "print('\"' + '\" \"'.join(list(zip(*english_words_counter.most_common(10)))[0]) + '\"')\n",
    "print()\n",
    "print('{} French words.'.format(len([word for sentence in french_sentences for word in sentence.split()])))\n",
    "print('{} unique French words.'.format(len(french_words_counter)))\n",
    "print('10 Most common words in the French dataset:')\n",
    "print('\"' + '\" \"'.join(list(zip(*french_words_counter.most_common(10)))[0]) + '\"')"
   ]
  },
  {
   "cell_type": "markdown",
   "metadata": {},
   "source": [
    "For comparison, _Alice's Adventures in Wonderland_ contains 2,766 unique words of a total of 15,500 words.\n",
    "## Preprocess\n",
    "For this project, you won't use text data as input to your model. Instead, you'll convert the text into sequences of integers using the following preprocess methods:\n",
    "1. Tokenize the words into ids\n",
    "2. Add padding to make all the sequences the same length.\n",
    "\n",
    "Time to start preprocessing the data...\n",
    "### Tokenize (IMPLEMENTATION)\n",
    "For a neural network to predict on text data, it first has to be turned into data it can understand. Text data like \"dog\" is a sequence of ASCII character encodings.  Since a neural network is a series of multiplication and addition operations, the input data needs to be number(s).\n",
    "\n",
    "We can turn each character into a number or each word into a number.  These are called character and word ids, respectively.  Character ids are used for character level models that generate text predictions for each character.  A word level model uses word ids that generate text predictions for each word.  Word level models tend to learn better, since they are lower in complexity, so we'll use those.\n",
    "\n",
    "Turn each sentence into a sequence of words ids using Keras's [`Tokenizer`](https://keras.io/preprocessing/text/#tokenizer) function. Use this function to tokenize `english_sentences` and `french_sentences` in the cell below.\n",
    "\n",
    "Running the cell will run `tokenize` on sample data and show output for debugging."
   ]
  },
  {
   "cell_type": "code",
   "execution_count": 10,
   "metadata": {},
   "outputs": [
    {
     "name": "stdout",
     "output_type": "stream",
     "text": [
      "{'the': 1, 'quick': 2, 'a': 3, 'brown': 4, 'fox': 5, 'jumps': 6, 'over': 7, 'lazy': 8, 'dog': 9, 'by': 10, 'jove': 11, 'my': 12, 'study': 13, 'of': 14, 'lexicography': 15, 'won': 16, 'prize': 17, 'this': 18, 'is': 19, 'short': 20, 'sentence': 21}\n",
      "\n",
      "Sequence 1 in x\n",
      "  Input:  The quick brown fox jumps over the lazy dog .\n",
      "  Output: [1, 2, 4, 5, 6, 7, 1, 8, 9]\n",
      "Sequence 2 in x\n",
      "  Input:  By Jove , my quick study of lexicography won a prize .\n",
      "  Output: [10, 11, 12, 2, 13, 14, 15, 16, 3, 17]\n",
      "Sequence 3 in x\n",
      "  Input:  This is a short sentence .\n",
      "  Output: [18, 19, 3, 20, 21]\n"
     ]
    }
   ],
   "source": [
    "def tokenize(x):\n",
    "    \"\"\"\n",
    "    Tokenize x\n",
    "    :param x: List of sentences/strings to be tokenized\n",
    "    :return: Tuple of (tokenized x data, tokenizer used to tokenize x)\n",
    "    \"\"\"\n",
    "    # TODO: Implement\n",
    "    tokenizer = Tokenizer()\n",
    "    tokenizer.fit_on_texts(x)\n",
    "    \n",
    "    return tokenizer.texts_to_sequences(x) , tokenizer\n",
    "\n",
    "tests.test_tokenize(tokenize)\n",
    "\n",
    "# Tokenize Example output\n",
    "text_sentences = [\n",
    "    'The quick brown fox jumps over the lazy dog .',\n",
    "    'By Jove , my quick study of lexicography won a prize .',\n",
    "    'This is a short sentence .']\n",
    "text_tokenized, text_tokenizer = tokenize(text_sentences)\n",
    "print(text_tokenizer.word_index)\n",
    "print()\n",
    "for sample_i, (sent, token_sent) in enumerate(zip(text_sentences, text_tokenized)):\n",
    "    print('Sequence {} in x'.format(sample_i + 1))\n",
    "    print('  Input:  {}'.format(sent))\n",
    "    print('  Output: {}'.format(token_sent))"
   ]
  },
  {
   "cell_type": "markdown",
   "metadata": {},
   "source": [
    "### Padding (IMPLEMENTATION)\n",
    "When batching the sequence of word ids together, each sequence needs to be the same length.  Since sentences are dynamic in length, we can add padding to the end of the sequences to make them the same length.\n",
    "\n",
    "Make sure all the English sequences have the same length and all the French sequences have the same length by adding padding to the **end** of each sequence using Keras's [`pad_sequences`](https://keras.io/preprocessing/sequence/#pad_sequences) function."
   ]
  },
  {
   "cell_type": "code",
   "execution_count": 11,
   "metadata": {},
   "outputs": [
    {
     "name": "stdout",
     "output_type": "stream",
     "text": [
      "Sequence 1 in x\n",
      "  Input:  [1 2 4 5 6 7 1 8 9]\n",
      "  Output: [1 2 4 5 6 7 1 8 9 0]\n",
      "Sequence 2 in x\n",
      "  Input:  [10 11 12  2 13 14 15 16  3 17]\n",
      "  Output: [10 11 12  2 13 14 15 16  3 17]\n",
      "Sequence 3 in x\n",
      "  Input:  [18 19  3 20 21]\n",
      "  Output: [18 19  3 20 21  0  0  0  0  0]\n"
     ]
    }
   ],
   "source": [
    "def pad(x, length=None):\n",
    "    \"\"\"\n",
    "    Pad x\n",
    "    :param x: List of sequences.\n",
    "    :param length: Length to pad the sequence to.  If None, use length of longest sequence in x.\n",
    "    :return: Padded numpy array of sequences\n",
    "    \"\"\"\n",
    "    # TODO: Implement\n",
    "    max_len = max([len(sentence) for sentence in x])\n",
    "    length = max_len if length is None else length\n",
    "    x = pad_sequences(x, maxlen=length, padding=\"post\", truncating=\"post\")\n",
    "    return x\n",
    "\n",
    "tests.test_pad(pad)\n",
    "\n",
    "# Pad Tokenized output\n",
    "test_pad = pad(text_tokenized)\n",
    "for sample_i, (token_sent, pad_sent) in enumerate(zip(text_tokenized, test_pad)):\n",
    "    print('Sequence {} in x'.format(sample_i + 1))\n",
    "    print('  Input:  {}'.format(np.array(token_sent)))\n",
    "    print('  Output: {}'.format(pad_sent))"
   ]
  },
  {
   "cell_type": "markdown",
   "metadata": {},
   "source": [
    "### Preprocess Pipeline\n",
    "Your focus for this project is to build neural network architecture, so we won't ask you to create a preprocess pipeline.  Instead, we've provided you with the implementation of the `preprocess` function."
   ]
  },
  {
   "cell_type": "code",
   "execution_count": 12,
   "metadata": {},
   "outputs": [
    {
     "name": "stdout",
     "output_type": "stream",
     "text": [
      "Data Preprocessed\n",
      "Max English sentence length: 15\n",
      "Max French sentence length: 21\n",
      "English vocabulary size: 199\n",
      "French vocabulary size: 344\n"
     ]
    }
   ],
   "source": [
    "def preprocess(x, y):\n",
    "    \"\"\"\n",
    "    Preprocess x and y\n",
    "    :param x: Feature List of sentences\n",
    "    :param y: Label List of sentences\n",
    "    :return: Tuple of (Preprocessed x, Preprocessed y, x tokenizer, y tokenizer)\n",
    "    \"\"\"\n",
    "    preprocess_x, x_tk = tokenize(x)\n",
    "    preprocess_y, y_tk = tokenize(y)\n",
    "\n",
    "    preprocess_x = pad(preprocess_x)\n",
    "    preprocess_y = pad(preprocess_y)\n",
    "\n",
    "    # Keras's sparse_categorical_crossentropy function requires the labels to be in 3 dimensions\n",
    "    preprocess_y = preprocess_y.reshape(*preprocess_y.shape, 1)\n",
    "\n",
    "    return preprocess_x, preprocess_y, x_tk, y_tk\n",
    "\n",
    "preproc_english_sentences, preproc_french_sentences, english_tokenizer, french_tokenizer =\\\n",
    "    preprocess(english_sentences, french_sentences)\n",
    "    \n",
    "max_english_sequence_length = preproc_english_sentences.shape[1]\n",
    "max_french_sequence_length = preproc_french_sentences.shape[1]\n",
    "english_vocab_size = len(english_tokenizer.word_index)\n",
    "french_vocab_size = len(french_tokenizer.word_index)\n",
    "\n",
    "print('Data Preprocessed')\n",
    "print(\"Max English sentence length:\", max_english_sequence_length)\n",
    "print(\"Max French sentence length:\", max_french_sequence_length)\n",
    "print(\"English vocabulary size:\", english_vocab_size)\n",
    "print(\"French vocabulary size:\", french_vocab_size)"
   ]
  },
  {
   "cell_type": "markdown",
   "metadata": {},
   "source": [
    "## Models\n",
    "In this section, you will experiment with various neural network architectures.\n",
    "You will begin by training four relatively simple architectures.\n",
    "- Model 1 is a simple RNN\n",
    "- Model 2 is a RNN with Embedding\n",
    "- Model 3 is a Bidirectional RNN\n",
    "- Model 4 is an optional Encoder-Decoder RNN\n",
    "\n",
    "After experimenting with the four simple architectures, you will construct a deeper architecture that is designed to outperform all four models.\n",
    "### Ids Back to Text\n",
    "The neural network will be translating the input to words ids, which isn't the final form we want.  We want the French translation.  The function `logits_to_text` will bridge the gab between the logits from the neural network to the French translation.  You'll be using this function to better understand the output of the neural network."
   ]
  },
  {
   "cell_type": "code",
   "execution_count": 13,
   "metadata": {},
   "outputs": [
    {
     "name": "stdout",
     "output_type": "stream",
     "text": [
      "`logits_to_text` function loaded.\n"
     ]
    }
   ],
   "source": [
    "def logits_to_text(logits, tokenizer):\n",
    "    \"\"\"\n",
    "    Turn logits from a neural network into text using the tokenizer\n",
    "    :param logits: Logits from a neural network\n",
    "    :param tokenizer: Keras Tokenizer fit on the labels\n",
    "    :return: String that represents the text of the logits\n",
    "    \"\"\"\n",
    "    index_to_words = {id: word for word, id in tokenizer.word_index.items()}\n",
    "    index_to_words[0] = '<PAD>'\n",
    "\n",
    "    return ' '.join([index_to_words[prediction] for prediction in np.argmax(logits, 1)])\n",
    "\n",
    "print('`logits_to_text` function loaded.')"
   ]
  },
  {
   "cell_type": "markdown",
   "metadata": {},
   "source": [
    "### Model 1: RNN (IMPLEMENTATION)\n",
    "![RNN](images/rnn.png)\n",
    "A basic RNN model is a good baseline for sequence data.  In this model, you'll build a RNN that translates English to French."
   ]
  },
  {
   "cell_type": "code",
   "execution_count": 14,
   "metadata": {},
   "outputs": [
    {
     "name": "stdout",
     "output_type": "stream",
     "text": [
      "**summary**\n",
      "Model: \"model_1\"\n",
      "_________________________________________________________________\n",
      "Layer (type)                 Output Shape              Param #   \n",
      "=================================================================\n",
      "input_1 (InputLayer)         (None, 21, 1)             0         \n",
      "_________________________________________________________________\n",
      "gru_1 (GRU)                  (None, 21, 128)           49920     \n",
      "_________________________________________________________________\n",
      "time_distributed_1 (TimeDist (None, 21, 344)           44376     \n",
      "_________________________________________________________________\n",
      "activation_1 (Activation)    (None, 21, 344)           0         \n",
      "=================================================================\n",
      "Total params: 94,296\n",
      "Trainable params: 94,296\n",
      "Non-trainable params: 0\n",
      "_________________________________________________________________\n",
      "(137861, 21)\n",
      "**summary**\n",
      "Model: \"model_2\"\n",
      "_________________________________________________________________\n",
      "Layer (type)                 Output Shape              Param #   \n",
      "=================================================================\n",
      "input_2 (InputLayer)         (None, 21, 1)             0         \n",
      "_________________________________________________________________\n",
      "gru_2 (GRU)                  (None, 21, 128)           49920     \n",
      "_________________________________________________________________\n",
      "time_distributed_2 (TimeDist (None, 21, 344)           44376     \n",
      "_________________________________________________________________\n",
      "activation_2 (Activation)    (None, 21, 344)           0         \n",
      "=================================================================\n",
      "Total params: 94,296\n",
      "Trainable params: 94,296\n",
      "Non-trainable params: 0\n",
      "_________________________________________________________________\n",
      "Train on 110288 samples, validate on 27573 samples\n",
      "Epoch 1/10\n",
      "110288/110288 [==============================] - 6s 53us/step - loss: 2.9799 - accuracy: 0.4400 - val_loss: nan - val_accuracy: 0.4766\n",
      "Epoch 2/10\n",
      "110288/110288 [==============================] - 5s 47us/step - loss: 2.0975 - accuracy: 0.5227 - val_loss: nan - val_accuracy: 0.5646\n",
      "Epoch 3/10\n",
      "110288/110288 [==============================] - 5s 47us/step - loss: 1.7236 - accuracy: 0.5788 - val_loss: nan - val_accuracy: 0.5874\n",
      "Epoch 4/10\n",
      "110288/110288 [==============================] - 5s 46us/step - loss: 1.5680 - accuracy: 0.5935 - val_loss: nan - val_accuracy: 0.6043\n",
      "Epoch 5/10\n",
      "110288/110288 [==============================] - 5s 47us/step - loss: 1.4660 - accuracy: 0.6075 - val_loss: nan - val_accuracy: 0.6149\n",
      "Epoch 6/10\n",
      "110288/110288 [==============================] - 5s 46us/step - loss: 1.3844 - accuracy: 0.6206 - val_loss: nan - val_accuracy: 0.6288\n",
      "Epoch 7/10\n",
      "110288/110288 [==============================] - 5s 47us/step - loss: 1.3174 - accuracy: 0.6360 - val_loss: nan - val_accuracy: 0.6429\n",
      "Epoch 8/10\n",
      "110288/110288 [==============================] - 5s 46us/step - loss: 1.2614 - accuracy: 0.6466 - val_loss: nan - val_accuracy: 0.6502\n",
      "Epoch 9/10\n",
      "110288/110288 [==============================] - 5s 47us/step - loss: 1.2164 - accuracy: 0.6537 - val_loss: nan - val_accuracy: 0.6560\n",
      "Epoch 10/10\n",
      "110288/110288 [==============================] - 5s 47us/step - loss: 1.1814 - accuracy: 0.6580 - val_loss: nan - val_accuracy: 0.6599\n",
      "new jersey est parfois calme en mois et il il il en en <PAD> <PAD> <PAD> <PAD> <PAD> <PAD> <PAD> <PAD>\n"
     ]
    }
   ],
   "source": [
    "def simple_model(input_shape, output_sequence_length, english_vocab_size, french_vocab_size):\n",
    "    \"\"\"\n",
    "    Build and train a basic RNN on x and y\n",
    "    :param input_shape: Tuple of input shape\n",
    "    :param output_sequence_length: Length of output sequence\n",
    "    :param english_vocab_size: Number of unique English words in the dataset\n",
    "    :param french_vocab_size: Number of unique French words in the dataset\n",
    "    :return: Keras model built, but not trained\n",
    "    \"\"\"\n",
    "    # TODO: Build the layers\n",
    "    learning_rate=0.001\n",
    "    input_seq = Input(input_shape[1:])\n",
    "    rnn = GRU(128, return_sequences=True)(input_seq)\n",
    "    logits = TimeDistributed(Dense(french_vocab_size))(rnn)\n",
    "    model = Model(input_seq, Activation('softmax')(logits))\n",
    "    \n",
    "    print('**summary**')\n",
    "    model.summary()\n",
    "    \n",
    "    model.compile(loss=sparse_categorical_crossentropy,\n",
    "                  optimizer=Adam(learning_rate),\n",
    "                  metrics=['accuracy'])\n",
    "    \n",
    "    \n",
    "    return model\n",
    "\n",
    "tests.test_simple_model(simple_model)\n",
    "\n",
    "# Reshaping the input to work with a basic RNN\n",
    "tmp_x = pad(preproc_english_sentences, max_french_sequence_length)\n",
    "print(tmp_x.shape)\n",
    "tmp_x = tmp_x.reshape((-1, preproc_french_sentences.shape[-2], 1))\n",
    "\n",
    "# Train the neural network\n",
    "simple_rnn_model = simple_model(\n",
    "    tmp_x.shape,\n",
    "    max_french_sequence_length,\n",
    "    english_vocab_size,\n",
    "    french_vocab_size)\n",
    "\n",
    "simple_rnn_model.fit(tmp_x, preproc_french_sentences, batch_size=1024, epochs=10, validation_split=0.2)\n",
    "\n",
    "# Print prediction(s)\n",
    "print(logits_to_text(simple_rnn_model.predict(tmp_x[:1])[0], french_tokenizer))"
   ]
  },
  {
   "cell_type": "markdown",
   "metadata": {},
   "source": [
    "### Model 2: Embedding (IMPLEMENTATION)\n",
    "![RNN](images/embedding.png)\n",
    "You've turned the words into ids, but there's a better representation of a word.  This is called word embeddings.  An embedding is a vector representation of the word that is close to similar words in n-dimensional space, where the n represents the size of the embedding vectors.\n",
    "\n",
    "In this model, you'll create a RNN model using embedding."
   ]
  },
  {
   "cell_type": "code",
   "execution_count": 17,
   "metadata": {},
   "outputs": [
    {
     "name": "stdout",
     "output_type": "stream",
     "text": [
      "(137861, 21)\n",
      "(137861, 21)\n"
     ]
    },
    {
     "name": "stderr",
     "output_type": "stream",
     "text": [
      "/home/ope/anaconda3/envs/nlp/lib/python3.7/site-packages/tensorflow_core/python/framework/indexed_slices.py:424: UserWarning: Converting sparse IndexedSlices to a dense Tensor of unknown shape. This may consume a large amount of memory.\n",
      "  \"Converting sparse IndexedSlices to a dense Tensor of unknown shape. \"\n"
     ]
    },
    {
     "name": "stdout",
     "output_type": "stream",
     "text": [
      "Train on 110288 samples, validate on 27573 samples\n",
      "Epoch 1/20\n",
      "110288/110288 [==============================] - 6s 53us/step - loss: 3.2251 - accuracy: 0.4316 - val_loss: nan - val_accuracy: 0.5111\n",
      "Epoch 2/20\n",
      "110288/110288 [==============================] - 5s 47us/step - loss: 1.7988 - accuracy: 0.5894 - val_loss: nan - val_accuracy: 0.6777\n",
      "Epoch 3/20\n",
      "110288/110288 [==============================] - 5s 48us/step - loss: 1.0831 - accuracy: 0.7295 - val_loss: nan - val_accuracy: 0.7688\n",
      "Epoch 4/20\n",
      "110288/110288 [==============================] - 5s 47us/step - loss: 0.7797 - accuracy: 0.7903 - val_loss: nan - val_accuracy: 0.8101\n",
      "Epoch 5/20\n",
      "110288/110288 [==============================] - 5s 47us/step - loss: 0.6206 - accuracy: 0.8236 - val_loss: nan - val_accuracy: 0.8372\n",
      "Epoch 6/20\n",
      "110288/110288 [==============================] - 5s 47us/step - loss: 0.5234 - accuracy: 0.8463 - val_loss: nan - val_accuracy: 0.8588\n",
      "Epoch 7/20\n",
      "110288/110288 [==============================] - 5s 47us/step - loss: 0.4558 - accuracy: 0.8649 - val_loss: nan - val_accuracy: 0.8732\n",
      "Epoch 8/20\n",
      "110288/110288 [==============================] - 5s 47us/step - loss: 0.4080 - accuracy: 0.8781 - val_loss: nan - val_accuracy: 0.8842\n",
      "Epoch 9/20\n",
      "110288/110288 [==============================] - 5s 48us/step - loss: 0.3711 - accuracy: 0.8880 - val_loss: nan - val_accuracy: 0.8926\n",
      "Epoch 10/20\n",
      "110288/110288 [==============================] - 5s 47us/step - loss: 0.3427 - accuracy: 0.8958 - val_loss: nan - val_accuracy: 0.8987\n",
      "Epoch 11/20\n",
      "110288/110288 [==============================] - 5s 47us/step - loss: 0.3203 - accuracy: 0.9017 - val_loss: nan - val_accuracy: 0.9024\n",
      "Epoch 12/20\n",
      "110288/110288 [==============================] - 5s 47us/step - loss: 0.3024 - accuracy: 0.9064 - val_loss: nan - val_accuracy: 0.9091\n",
      "Epoch 13/20\n",
      "110288/110288 [==============================] - 5s 48us/step - loss: 0.2869 - accuracy: 0.9106 - val_loss: nan - val_accuracy: 0.9119\n",
      "Epoch 14/20\n",
      "110288/110288 [==============================] - 5s 47us/step - loss: 0.2752 - accuracy: 0.9136 - val_loss: nan - val_accuracy: 0.9147\n",
      "Epoch 15/20\n",
      "110288/110288 [==============================] - 5s 47us/step - loss: 0.2630 - accuracy: 0.9170 - val_loss: nan - val_accuracy: 0.9156\n",
      "Epoch 16/20\n",
      "110288/110288 [==============================] - 5s 47us/step - loss: 0.2558 - accuracy: 0.9186 - val_loss: nan - val_accuracy: 0.9182\n",
      "Epoch 17/20\n",
      "110288/110288 [==============================] - 5s 47us/step - loss: 0.2471 - accuracy: 0.9211 - val_loss: nan - val_accuracy: 0.9213\n",
      "Epoch 18/20\n",
      "110288/110288 [==============================] - 5s 46us/step - loss: 0.2406 - accuracy: 0.9225 - val_loss: nan - val_accuracy: 0.9204\n",
      "Epoch 19/20\n",
      "110288/110288 [==============================] - 5s 47us/step - loss: 0.2340 - accuracy: 0.9242 - val_loss: nan - val_accuracy: 0.9237\n",
      "Epoch 20/20\n",
      "110288/110288 [==============================] - 5s 47us/step - loss: 0.2278 - accuracy: 0.9259 - val_loss: nan - val_accuracy: 0.9242\n",
      "new jersey est parfois calme en l' automne et il est neigeux en avril <PAD> <PAD> <PAD> <PAD> <PAD> <PAD> <PAD>\n"
     ]
    }
   ],
   "source": [
    "def embed_model(input_shape, output_sequence_length, english_vocab_size, french_vocab_size):\n",
    "    \"\"\"\n",
    "    Build and train a RNN model using word embedding on x and y\n",
    "    :param input_shape: Tuple of input shape\n",
    "    :param output_sequence_length: Length of output sequence\n",
    "    :param english_vocab_size: Number of unique English words in the dataset\n",
    "    :param french_vocab_size: Number of unique French words in the dataset\n",
    "    :return: Keras model built, but not trained\n",
    "    \"\"\"\n",
    "    # TODO: Implement\n",
    "    embeddingSize = 256\n",
    "    inputLayer = Input(shape = input_shape[1:])\n",
    "    embeddingLayer = Embedding(input_dim=english_vocab_size, output_dim=embeddingSize)(inputLayer)\n",
    "    gruLayer = GRU(units=128, return_sequences=True)(embeddingLayer)\n",
    "    tdLayer = TimeDistributed(Dense(french_vocab_size))(gruLayer)\n",
    "    model = Model(inputs = inputLayer, outputs = Activation(\"softmax\")(tdLayer))\n",
    "    model.compile(loss=sparse_categorical_crossentropy, optimizer = Adam(), metrics=[\"accuracy\"])\n",
    "    return model\n",
    "\n",
    "tests.test_embed_model(embed_model)\n",
    "\n",
    "\n",
    "# TODO: Reshape the input\n",
    "tmp_x = pad(preproc_english_sentences, max_french_sequence_length)\n",
    "print(tmp_x.shape)\n",
    "tmp_x = tmp_x.reshape((-1, preproc_french_sentences.shape[-2]))\n",
    "print(tmp_x.shape)\n",
    "# TODO: Train the neural network\n",
    "rnn_model_embedding = embed_model(tmp_x.shape, max_french_sequence_length, english_vocab_size, french_vocab_size)\n",
    "rnn_model_embedding.fit(x=tmp_x, y=preproc_french_sentences, batch_size=1024, epochs=20, validation_split=0.2)\n",
    "# TODO: Print prediction(s)\n",
    "print(logits_to_text(rnn_model_embedding.predict(tmp_x[:1])[0],  french_tokenizer))"
   ]
  },
  {
   "cell_type": "markdown",
   "metadata": {},
   "source": [
    "### Model 3: Bidirectional RNNs (IMPLEMENTATION)\n",
    "![RNN](images/bidirectional.png)\n",
    "One restriction of a RNN is that it can't see the future input, only the past.  This is where bidirectional recurrent neural networks come in.  They are able to see the future data."
   ]
  },
  {
   "cell_type": "code",
   "execution_count": 22,
   "metadata": {},
   "outputs": [
    {
     "name": "stdout",
     "output_type": "stream",
     "text": [
      "(137861, 21)\n",
      "(137861, 21, 1)\n",
      "Train on 110288 samples, validate on 27573 samples\n",
      "Epoch 1/20\n",
      "110288/110288 [==============================] - 12s 110us/step - loss: 1.8449 - accuracy: 0.5726 - val_loss: 1.3515 - val_accuracy: 0.6259\n",
      "Epoch 2/20\n",
      "110288/110288 [==============================] - 11s 101us/step - loss: 1.2484 - accuracy: 0.6428 - val_loss: 1.1664 - val_accuracy: 0.6607\n",
      "Epoch 3/20\n",
      "110288/110288 [==============================] - 11s 101us/step - loss: 1.1109 - accuracy: 0.6703 - val_loss: 1.0603 - val_accuracy: 0.6784\n",
      "Epoch 4/20\n",
      "110288/110288 [==============================] - 11s 101us/step - loss: 1.0071 - accuracy: 0.6893 - val_loss: 0.9667 - val_accuracy: 0.6922\n",
      "Epoch 5/20\n",
      "110288/110288 [==============================] - 11s 101us/step - loss: 0.9366 - accuracy: 0.7011 - val_loss: 0.9044 - val_accuracy: 0.7049\n",
      "Epoch 6/20\n",
      "110288/110288 [==============================] - 11s 101us/step - loss: 0.8785 - accuracy: 0.7115 - val_loss: 0.8534 - val_accuracy: 0.7185\n",
      "Epoch 7/20\n",
      "110288/110288 [==============================] - 11s 101us/step - loss: 0.8377 - accuracy: 0.7189 - val_loss: 0.8204 - val_accuracy: 0.7225\n",
      "Epoch 8/20\n",
      "110288/110288 [==============================] - 11s 101us/step - loss: 0.7948 - accuracy: 0.7288 - val_loss: 0.7915 - val_accuracy: 0.7264\n",
      "Epoch 9/20\n",
      "110288/110288 [==============================] - 11s 102us/step - loss: 0.7616 - accuracy: 0.7367 - val_loss: 0.7416 - val_accuracy: 0.7393\n",
      "Epoch 10/20\n",
      "110288/110288 [==============================] - 11s 102us/step - loss: 0.7341 - accuracy: 0.7429 - val_loss: 0.7212 - val_accuracy: 0.7464\n",
      "Epoch 11/20\n",
      "110288/110288 [==============================] - 11s 102us/step - loss: 0.7046 - accuracy: 0.7511 - val_loss: 0.6949 - val_accuracy: 0.7505\n",
      "Epoch 12/20\n",
      "110288/110288 [==============================] - 11s 102us/step - loss: 0.6782 - accuracy: 0.7592 - val_loss: 0.6703 - val_accuracy: 0.7631\n",
      "Epoch 13/20\n",
      "110288/110288 [==============================] - 11s 101us/step - loss: 0.6520 - accuracy: 0.7685 - val_loss: 0.6455 - val_accuracy: 0.7728\n",
      "Epoch 14/20\n",
      "110288/110288 [==============================] - 11s 102us/step - loss: 0.6331 - accuracy: 0.7761 - val_loss: 0.6317 - val_accuracy: 0.7743\n",
      "Epoch 15/20\n",
      "110288/110288 [==============================] - 11s 102us/step - loss: 0.6190 - accuracy: 0.7770 - val_loss: 0.6130 - val_accuracy: 0.7812\n",
      "Epoch 16/20\n",
      "110288/110288 [==============================] - 11s 102us/step - loss: 0.5864 - accuracy: 0.7949 - val_loss: 0.5870 - val_accuracy: 0.7981\n",
      "Epoch 17/20\n",
      "110288/110288 [==============================] - 11s 102us/step - loss: 0.5689 - accuracy: 0.8032 - val_loss: 0.6003 - val_accuracy: 0.7808\n",
      "Epoch 18/20\n",
      "110288/110288 [==============================] - 11s 102us/step - loss: 0.5702 - accuracy: 0.7963 - val_loss: 0.5864 - val_accuracy: 0.7917\n",
      "Epoch 19/20\n",
      "110288/110288 [==============================] - 11s 102us/step - loss: 0.5246 - accuracy: 0.8240 - val_loss: 0.5408 - val_accuracy: 0.8211\n",
      "Epoch 20/20\n",
      "110288/110288 [==============================] - 11s 102us/step - loss: 0.5004 - accuracy: 0.8356 - val_loss: 0.5317 - val_accuracy: 0.8182\n",
      "new jersey est parfois calme en mois de il est il est en en <PAD> <PAD> <PAD> <PAD> <PAD> <PAD> <PAD>\n"
     ]
    }
   ],
   "source": [
    "def bd_model(input_shape, output_sequence_length, english_vocab_size, french_vocab_size):\n",
    "    \"\"\"\n",
    "    Build and train a bidirectional RNN model on x and y\n",
    "    :param input_shape: Tuple of input shape\n",
    "    :param output_sequence_length: Length of output sequence\n",
    "    :param english_vocab_size: Number of unique English words in the dataset\n",
    "    :param french_vocab_size: Number of unique French words in the dataset\n",
    "    :return: Keras model built, but not trained\n",
    "    \"\"\"\n",
    "    # TODO: Implement\n",
    "    \n",
    "    inputLayer = Input(shape=input_shape[1:])\n",
    "    rnnLayer = Bidirectional(GRU(512, return_sequences=True, dropout=0.2), input_shape=input_shape[1:])(inputLayer)\n",
    "    logits = TimeDistributed(Dense(french_vocab_size))(rnnLayer)\n",
    "    model = Model(inputs=inputLayer, outputs = Activation(\"softmax\")(logits))\n",
    "    model.compile(optimizer=Adam(), loss=sparse_categorical_crossentropy, metrics=[\"accuracy\"])\n",
    "    return model\n",
    "tests.test_bd_model(bd_model)\n",
    "\n",
    "tmp_x = pad(preproc_english_sentences, max_french_sequence_length)\n",
    "print(tmp_x.shape)\n",
    "tmp_x = tmp_x.reshape((-1, preproc_french_sentences.shape[-2],1))\n",
    "\n",
    "print(tmp_x.shape)\n",
    "\n",
    "# TODO: Train and Print prediction(s)\n",
    "bdModel = bd_model(tmp_x.shape, preproc_french_sentences.shape[1], english_vocab_size+1, french_vocab_size+1)\n",
    "bdModel.fit(tmp_x, preproc_french_sentences, batch_size=1024, epochs=20, validation_split=0.2)\n",
    "## Predictions\n",
    "print(logits_to_text(bdModel.predict(tmp_x[:1])[0],french_tokenizer))\n"
   ]
  },
  {
   "cell_type": "markdown",
   "metadata": {},
   "source": [
    "### Model 4: Encoder-Decoder (OPTIONAL)\n",
    "Time to look at encoder-decoder models.  This model is made up of an encoder and decoder. The encoder creates a matrix representation of the sentence.  The decoder takes this matrix as input and predicts the translation as output.\n",
    "\n",
    "Create an encoder-decoder model in the cell below."
   ]
  },
  {
   "cell_type": "code",
   "execution_count": 36,
   "metadata": {},
   "outputs": [
    {
     "name": "stdout",
     "output_type": "stream",
     "text": [
      "Model: \"model_29\"\n",
      "_________________________________________________________________\n",
      "Layer (type)                 Output Shape              Param #   \n",
      "=================================================================\n",
      "input_33 (InputLayer)        (None, 15, 1)             0         \n",
      "_________________________________________________________________\n",
      "gru_49 (GRU)                 (None, 256)               198144    \n",
      "_________________________________________________________________\n",
      "repeat_vector_17 (RepeatVect (None, 21, 256)           0         \n",
      "_________________________________________________________________\n",
      "gru_50 (GRU)                 (None, 21, 512)           1181184   \n",
      "_________________________________________________________________\n",
      "time_distributed_36 (TimeDis (None, 21, 344)           176472    \n",
      "_________________________________________________________________\n",
      "time_distributed_37 (TimeDis (None, 21, 344)           118680    \n",
      "_________________________________________________________________\n",
      "activation_30 (Activation)   (None, 21, 344)           0         \n",
      "=================================================================\n",
      "Total params: 1,674,480\n",
      "Trainable params: 1,674,480\n",
      "Non-trainable params: 0\n",
      "_________________________________________________________________\n",
      "None\n",
      "(137861, 21)\n",
      "(137861, 21, 1)\n",
      "Model: \"model_30\"\n",
      "_________________________________________________________________\n",
      "Layer (type)                 Output Shape              Param #   \n",
      "=================================================================\n",
      "input_34 (InputLayer)        (None, 21, 1)             0         \n",
      "_________________________________________________________________\n",
      "gru_51 (GRU)                 (None, 256)               198144    \n",
      "_________________________________________________________________\n",
      "repeat_vector_18 (RepeatVect (None, 21, 256)           0         \n",
      "_________________________________________________________________\n",
      "gru_52 (GRU)                 (None, 21, 512)           1181184   \n",
      "_________________________________________________________________\n",
      "time_distributed_38 (TimeDis (None, 21, 345)           176985    \n",
      "_________________________________________________________________\n",
      "time_distributed_39 (TimeDis (None, 21, 345)           119370    \n",
      "_________________________________________________________________\n",
      "activation_31 (Activation)   (None, 21, 345)           0         \n",
      "=================================================================\n",
      "Total params: 1,675,683\n",
      "Trainable params: 1,675,683\n",
      "Non-trainable params: 0\n",
      "_________________________________________________________________\n",
      "None\n",
      "Train on 110288 samples, validate on 27573 samples\n",
      "Epoch 1/20\n",
      "110288/110288 [==============================] - 19s 174us/step - loss: 2.3946 - accuracy: 0.4917 - val_loss: 1.7270 - val_accuracy: 0.5606\n",
      "Epoch 2/20\n",
      "110288/110288 [==============================] - 18s 164us/step - loss: 1.5709 - accuracy: 0.5799 - val_loss: 1.4169 - val_accuracy: 0.6121\n",
      "Epoch 3/20\n",
      "110288/110288 [==============================] - 18s 164us/step - loss: 1.3558 - accuracy: 0.6185 - val_loss: 1.2892 - val_accuracy: 0.6309\n",
      "Epoch 4/20\n",
      "110288/110288 [==============================] - 18s 163us/step - loss: 1.2609 - accuracy: 0.6342 - val_loss: 1.2380 - val_accuracy: 0.6371\n",
      "Epoch 5/20\n",
      "110288/110288 [==============================] - 18s 163us/step - loss: 1.1800 - accuracy: 0.6450 - val_loss: 1.1393 - val_accuracy: 0.6507\n",
      "Epoch 6/20\n",
      "110288/110288 [==============================] - 18s 163us/step - loss: 1.1050 - accuracy: 0.6556 - val_loss: 1.0744 - val_accuracy: 0.6637\n",
      "Epoch 7/20\n",
      "110288/110288 [==============================] - 18s 164us/step - loss: 1.0682 - accuracy: 0.6643 - val_loss: 1.2368 - val_accuracy: 0.6262\n",
      "Epoch 8/20\n",
      "110288/110288 [==============================] - 18s 164us/step - loss: 0.9911 - accuracy: 0.6802 - val_loss: 0.9133 - val_accuracy: 0.6984\n",
      "Epoch 9/20\n",
      "110288/110288 [==============================] - 18s 164us/step - loss: 0.9081 - accuracy: 0.6989 - val_loss: 0.8376 - val_accuracy: 0.7214\n",
      "Epoch 10/20\n",
      "110288/110288 [==============================] - 18s 163us/step - loss: 0.8530 - accuracy: 0.7122 - val_loss: 0.8152 - val_accuracy: 0.7210\n",
      "Epoch 11/20\n",
      "110288/110288 [==============================] - 18s 164us/step - loss: 0.7861 - accuracy: 0.7279 - val_loss: 0.7659 - val_accuracy: 0.7298\n",
      "Epoch 12/20\n",
      "110288/110288 [==============================] - 18s 162us/step - loss: 0.7245 - accuracy: 0.7466 - val_loss: 0.7019 - val_accuracy: 0.7548\n",
      "Epoch 13/20\n",
      "110288/110288 [==============================] - 18s 164us/step - loss: 0.6818 - accuracy: 0.7599 - val_loss: 0.6465 - val_accuracy: 0.7723\n",
      "Epoch 14/20\n",
      "110288/110288 [==============================] - 18s 164us/step - loss: 0.6746 - accuracy: 0.7631 - val_loss: 0.6595 - val_accuracy: 0.7641\n",
      "Epoch 15/20\n",
      "110288/110288 [==============================] - 18s 163us/step - loss: 0.6054 - accuracy: 0.7850 - val_loss: 0.5730 - val_accuracy: 0.7981\n",
      "Epoch 16/20\n",
      "110288/110288 [==============================] - 18s 162us/step - loss: 0.5833 - accuracy: 0.7918 - val_loss: 0.5482 - val_accuracy: 0.8045\n",
      "Epoch 17/20\n",
      "110288/110288 [==============================] - 18s 163us/step - loss: 0.5888 - accuracy: 0.7910 - val_loss: 0.5548 - val_accuracy: 0.8028\n",
      "Epoch 18/20\n",
      "110288/110288 [==============================] - 18s 162us/step - loss: 0.5182 - accuracy: 0.8132 - val_loss: 0.5286 - val_accuracy: 0.8081\n",
      "Epoch 19/20\n",
      "110288/110288 [==============================] - 18s 162us/step - loss: 0.5207 - accuracy: 0.8134 - val_loss: 0.8863 - val_accuracy: 0.7198\n",
      "Epoch 20/20\n",
      "110288/110288 [==============================] - 18s 162us/step - loss: 0.5221 - accuracy: 0.8120 - val_loss: 0.6181 - val_accuracy: 0.7696\n",
      "new jersey est parfois parfois au cours de et il il est en en <PAD> <PAD> <PAD> <PAD> <PAD> <PAD> <PAD>\n"
     ]
    }
   ],
   "source": [
    "def encdec_model(input_shape, output_sequence_length, english_vocab_size, french_vocab_size):\n",
    "    \"\"\"\n",
    "    Build and train an encoder-decoder model on x and y\n",
    "    :param input_shape: Tuple of input shape\n",
    "    :param output_sequence_length: Length of output sequence\n",
    "    :param english_vocab_size: Number of unique English words in the dataset\n",
    "    :param french_vocab_size: Number of unique French words in the dataset\n",
    "    :return: Keras model built, but not trained\n",
    "    \"\"\"\n",
    "    # OPTIONAL: Implement\n",
    "    #encoder\n",
    "    inputLayer = Input(input_shape[1:])\n",
    "    gruLayer = GRU(units=256, return_sequences=False)(inputLayer)\n",
    "    # Repeat Vector accumulating context vector from encoder to decoder\n",
    "    rvLayer = RepeatVector(output_sequence_length)(gruLayer)\n",
    "    #decoder\n",
    "    gruLayer2 = GRU(units=512, return_sequences=True)(rvLayer)\n",
    "    tdLayer = TimeDistributed(Dense(french_vocab_size))(gruLayer2)\n",
    "    logits = TimeDistributed(Dense(french_vocab_size))(tdLayer)\n",
    "    model = Model(inputs=inputLayer, outputs = Activation(\"softmax\")(logits))\n",
    "    model.compile(loss=sparse_categorical_crossentropy, metrics=[\"accuracy\"], optimizer = Adam())\n",
    "    \n",
    "    print(model.summary())\n",
    "    return model\n",
    "tests.test_encdec_model(encdec_model)\n",
    "\n",
    "tmp_x = pad(preproc_english_sentences, preproc_french_sentences.shape[1])\n",
    "print(tmp_x.shape)\n",
    "\n",
    "tmp_x = tmp_x.reshape((tmp_x.shape[0], tmp_x.shape[1],1))\n",
    "print(tmp_x.shape)\n",
    "\n",
    "# OPTIONAL: Train and Print prediction(s)\n",
    "# Train\n",
    "encDecModel = encdec_model(tmp_x.shape, preproc_french_sentences.shape[1],\n",
    "                           english_vocab_size+1, french_vocab_size+1)\n",
    "encDecModel.fit(tmp_x, preproc_french_sentences, batch_size=512,epochs=20, validation_split=0.2)\n",
    "\n",
    "#Predictions\n",
    "print(logits_to_text(encDecModel.predict(tmp_x[:1])[0],french_tokenizer))"
   ]
  },
  {
   "cell_type": "markdown",
   "metadata": {},
   "source": [
    "### Model 5: Custom (IMPLEMENTATION)\n",
    "Use everything you learned from the previous models to create a model that incorporates embedding and a bidirectional rnn into one model."
   ]
  },
  {
   "cell_type": "code",
   "execution_count": 43,
   "metadata": {},
   "outputs": [
    {
     "name": "stdout",
     "output_type": "stream",
     "text": [
      "Model: \"model_35\"\n",
      "_________________________________________________________________\n",
      "Layer (type)                 Output Shape              Param #   \n",
      "=================================================================\n",
      "input_41 (InputLayer)        (None, 15)                0         \n",
      "_________________________________________________________________\n",
      "embedding_11 (Embedding)     (None, 15, 256)           50944     \n",
      "_________________________________________________________________\n",
      "gru_65 (GRU)                 (None, 256)               393984    \n",
      "_________________________________________________________________\n",
      "repeat_vector_25 (RepeatVect (None, 21, 256)           0         \n",
      "_________________________________________________________________\n",
      "bidirectional_17 (Bidirectio (None, 21, 512)           787968    \n",
      "_________________________________________________________________\n",
      "time_distributed_46 (TimeDis (None, 21, 344)           176472    \n",
      "_________________________________________________________________\n",
      "activation_38 (Activation)   (None, 21, 344)           0         \n",
      "=================================================================\n",
      "Total params: 1,409,368\n",
      "Trainable params: 1,409,368\n",
      "Non-trainable params: 0\n",
      "_________________________________________________________________\n",
      "None\n",
      "Final Model Loaded\n"
     ]
    }
   ],
   "source": [
    "def model_final(input_shape, output_sequence_length, english_vocab_size, french_vocab_size):\n",
    "    \"\"\"\n",
    "    Build and train a model that incorporates embedding, encoder-decoder, and bidirectional RNN on x and y\n",
    "    :param input_shape: Tuple of input shape\n",
    "    :param output_sequence_length: Length of output sequence\n",
    "    :param english_vocab_size: Number of unique English words in the dataset\n",
    "    :param french_vocab_size: Number of unique French words in the dataset\n",
    "    :return: Keras model built, but not trained\n",
    "    \"\"\"\n",
    "    # TODO: Implement\n",
    "    learning_rate =0.01\n",
    "    embeddingSize = 256\n",
    "    inputLayer = Input(shape = input_shape[1:])\n",
    "    embeddingLayerEncoder = Embedding(input_dim = english_vocab_size, output_dim=256)(inputLayer)\n",
    "    gruLayerEncoder = GRU(256, return_sequences=False)(embeddingLayerEncoder)\n",
    "    \n",
    "    # Accumulate Context from Encoder for Decoder using RepeatVector\n",
    "    accumulatorDecoder = RepeatVector(output_sequence_length)(gruLayerEncoder)\n",
    "    bdLayerDecoder = Bidirectional(GRU(256, return_sequences=True))(accumulatorDecoder)\n",
    "    logits = TimeDistributed(Dense(french_vocab_size))(bdLayerDecoder)\n",
    "    model = Model(inputs = inputLayer, outputs = Activation(\"softmax\")(logits))\n",
    "    model.compile(optimizer = Adam(learning_rate), loss = sparse_categorical_crossentropy, \n",
    "                  metrics = [\"accuracy\"])\n",
    "    print(model.summary())\n",
    "    return model\n",
    "tests.test_model_final(model_final)\n",
    "\n",
    "\n",
    "print('Final Model Loaded')\n",
    "# TODO: Train the final model"
   ]
  },
  {
   "cell_type": "markdown",
   "metadata": {},
   "source": [
    "## Prediction (IMPLEMENTATION)"
   ]
  },
  {
   "cell_type": "code",
   "execution_count": 44,
   "metadata": {},
   "outputs": [
    {
     "name": "stdout",
     "output_type": "stream",
     "text": [
      "Model: \"model_36\"\n",
      "_________________________________________________________________\n",
      "Layer (type)                 Output Shape              Param #   \n",
      "=================================================================\n",
      "input_42 (InputLayer)        (None, 15)                0         \n",
      "_________________________________________________________________\n",
      "embedding_12 (Embedding)     (None, 15, 256)           51200     \n",
      "_________________________________________________________________\n",
      "gru_67 (GRU)                 (None, 256)               393984    \n",
      "_________________________________________________________________\n",
      "repeat_vector_26 (RepeatVect (None, 21, 256)           0         \n",
      "_________________________________________________________________\n",
      "bidirectional_18 (Bidirectio (None, 21, 512)           787968    \n",
      "_________________________________________________________________\n",
      "time_distributed_47 (TimeDis (None, 21, 345)           176985    \n",
      "_________________________________________________________________\n",
      "activation_39 (Activation)   (None, 21, 345)           0         \n",
      "=================================================================\n",
      "Total params: 1,410,137\n",
      "Trainable params: 1,410,137\n",
      "Non-trainable params: 0\n",
      "_________________________________________________________________\n",
      "None\n"
     ]
    },
    {
     "name": "stderr",
     "output_type": "stream",
     "text": [
      "/home/ope/anaconda3/envs/nlp/lib/python3.7/site-packages/tensorflow_core/python/framework/indexed_slices.py:424: UserWarning: Converting sparse IndexedSlices to a dense Tensor of unknown shape. This may consume a large amount of memory.\n",
      "  \"Converting sparse IndexedSlices to a dense Tensor of unknown shape. \"\n"
     ]
    },
    {
     "name": "stdout",
     "output_type": "stream",
     "text": [
      "Train on 110288 samples, validate on 27573 samples\n",
      "Epoch 1/20\n",
      "110288/110288 [==============================] - 13s 114us/step - loss: 2.2235 - accuracy: 0.4939 - val_loss: 1.4045 - val_accuracy: 0.6102\n",
      "Epoch 2/20\n",
      "110288/110288 [==============================] - 11s 99us/step - loss: 1.0543 - accuracy: 0.6949 - val_loss: 0.7054 - val_accuracy: 0.7851\n",
      "Epoch 3/20\n",
      "110288/110288 [==============================] - 11s 100us/step - loss: 0.4889 - accuracy: 0.8489 - val_loss: 0.3024 - val_accuracy: 0.9074\n",
      "Epoch 4/20\n",
      "110288/110288 [==============================] - 11s 100us/step - loss: 0.2267 - accuracy: 0.9327 - val_loss: 0.1784 - val_accuracy: 0.9488\n",
      "Epoch 5/20\n",
      "110288/110288 [==============================] - 11s 100us/step - loss: 0.1468 - accuracy: 0.9572 - val_loss: 0.1350 - val_accuracy: 0.9607\n",
      "Epoch 6/20\n",
      "110288/110288 [==============================] - 11s 100us/step - loss: 0.1286 - accuracy: 0.9622 - val_loss: 0.1368 - val_accuracy: 0.9599\n",
      "Epoch 7/20\n",
      "110288/110288 [==============================] - 11s 100us/step - loss: 0.1048 - accuracy: 0.9689 - val_loss: 0.1491 - val_accuracy: 0.9553\n",
      "Epoch 8/20\n",
      "110288/110288 [==============================] - 11s 99us/step - loss: 0.1006 - accuracy: 0.9699 - val_loss: 0.0975 - val_accuracy: 0.9720\n",
      "Epoch 9/20\n",
      "110288/110288 [==============================] - 11s 100us/step - loss: 0.1163 - accuracy: 0.9655 - val_loss: 0.1248 - val_accuracy: 0.9631\n",
      "Epoch 10/20\n",
      "110288/110288 [==============================] - 11s 100us/step - loss: 0.0857 - accuracy: 0.9745 - val_loss: 0.0976 - val_accuracy: 0.9714\n",
      "Epoch 11/20\n",
      "110288/110288 [==============================] - 11s 99us/step - loss: 0.1023 - accuracy: 0.9697 - val_loss: 0.1031 - val_accuracy: 0.9701\n",
      "Epoch 12/20\n",
      "110288/110288 [==============================] - 11s 100us/step - loss: 0.0908 - accuracy: 0.9730 - val_loss: 0.1395 - val_accuracy: 0.9598\n",
      "Epoch 13/20\n",
      "110288/110288 [==============================] - 11s 100us/step - loss: 0.1109 - accuracy: 0.9670 - val_loss: 0.1177 - val_accuracy: 0.9653\n",
      "Epoch 14/20\n",
      "110288/110288 [==============================] - 11s 100us/step - loss: 0.0888 - accuracy: 0.9735 - val_loss: 0.0997 - val_accuracy: 0.9714\n",
      "Epoch 15/20\n",
      "110288/110288 [==============================] - 11s 100us/step - loss: 0.0708 - accuracy: 0.9788 - val_loss: 0.0808 - val_accuracy: 0.9769\n",
      "Epoch 16/20\n",
      "110288/110288 [==============================] - 11s 100us/step - loss: 0.0658 - accuracy: 0.9804 - val_loss: 0.0839 - val_accuracy: 0.9761\n",
      "Epoch 17/20\n",
      "110288/110288 [==============================] - 11s 100us/step - loss: 0.0562 - accuracy: 0.9832 - val_loss: 0.0823 - val_accuracy: 0.9776\n",
      "Epoch 18/20\n",
      "110288/110288 [==============================] - 11s 100us/step - loss: 0.0519 - accuracy: 0.9844 - val_loss: 0.0819 - val_accuracy: 0.9773\n",
      "Epoch 19/20\n",
      "110288/110288 [==============================] - 11s 100us/step - loss: 0.0909 - accuracy: 0.9735 - val_loss: 0.1571 - val_accuracy: 0.9546\n",
      "Epoch 20/20\n",
      "110288/110288 [==============================] - 11s 100us/step - loss: 0.1164 - accuracy: 0.9656 - val_loss: 0.1040 - val_accuracy: 0.9710\n",
      "Sample 1:\n",
      "il a vu un vieux camion jaune <PAD> <PAD> <PAD> <PAD> <PAD> <PAD> <PAD> <PAD> <PAD> <PAD> <PAD> <PAD> <PAD> <PAD>\n",
      "Il a vu un vieux camion jaune\n",
      "Sample 2:\n",
      "new jersey est parfois calme pendant l' automne et il est neigeux en avril <PAD> <PAD> <PAD> <PAD> <PAD> <PAD> <PAD>\n",
      "new jersey est parfois calme pendant l' automne et il est neigeux en avril <PAD> <PAD> <PAD> <PAD> <PAD> <PAD> <PAD>\n"
     ]
    }
   ],
   "source": [
    "def final_predictions(x, y, x_tk, y_tk):\n",
    "    \"\"\"\n",
    "    Gets predictions using the final model\n",
    "    :param x: Preprocessed English data\n",
    "    :param y: Preprocessed French data\n",
    "    :param x_tk: English tokenizer\n",
    "    :param y_tk: French tokenizer\n",
    "    \"\"\"\n",
    "    # TODO: Train neural network using model_final\n",
    "    model = model_final(x.shape, y.shape[1], len(x_tk.word_index)+1, len(y_tk.word_index)+1)\n",
    "    model.fit(x, y, batch_size=1024, epochs=20, validation_split=0.2)\n",
    "\n",
    "    \n",
    "    ## DON'T EDIT ANYTHING BELOW THIS LINE\n",
    "    y_id_to_word = {value: key for key, value in y_tk.word_index.items()}\n",
    "    y_id_to_word[0] = '<PAD>'\n",
    "\n",
    "    sentence = 'he saw a old yellow truck'\n",
    "    sentence = [x_tk.word_index[word] for word in sentence.split()]\n",
    "    sentence = pad_sequences([sentence], maxlen=x.shape[-1], padding='post')\n",
    "    sentences = np.array([sentence[0], x[0]])\n",
    "    predictions = model.predict(sentences, len(sentences))\n",
    "\n",
    "    print('Sample 1:')\n",
    "    print(' '.join([y_id_to_word[np.argmax(x)] for x in predictions[0]]))\n",
    "    print('Il a vu un vieux camion jaune')\n",
    "    print('Sample 2:')\n",
    "    print(' '.join([y_id_to_word[np.argmax(x)] for x in predictions[1]]))\n",
    "    print(' '.join([y_id_to_word[np.max(x)] for x in y[0]]))\n",
    "\n",
    "\n",
    "final_predictions(preproc_english_sentences, preproc_french_sentences, english_tokenizer, french_tokenizer)"
   ]
  },
  {
   "cell_type": "markdown",
   "metadata": {},
   "source": [
    "## Submission\n",
    "When you're ready to submit, complete the following steps:\n",
    "1. Review the [rubric](https://review.udacity.com/#!/rubrics/1004/view) to ensure your submission meets all requirements to pass\n",
    "2. Generate an HTML version of this notebook\n",
    "\n",
    "  - Run the next cell to attempt automatic generation (this is the recommended method in Workspaces)\n",
    "  - Navigate to **FILE -> Download as -> HTML (.html)**\n",
    "  - Manually generate a copy using `nbconvert` from your shell terminal\n",
    "```\n",
    "$ pip install nbconvert\n",
    "$ python -m nbconvert machine_translation.ipynb\n",
    "```\n",
    "  \n",
    "3. Submit the project\n",
    "\n",
    "  - If you are in a Workspace, simply click the \"Submit Project\" button (bottom towards the right)\n",
    "  \n",
    "  - Otherwise, add the following files into a zip archive and submit them \n",
    "  - `helper.py`\n",
    "  - `machine_translation.ipynb`\n",
    "  - `machine_translation.html`\n",
    "    - You can export the notebook by navigating to **File -> Download as -> HTML (.html)**."
   ]
  },
  {
   "cell_type": "code",
   "execution_count": 45,
   "metadata": {},
   "outputs": [
    {
     "data": {
      "text/plain": [
       "['[NbConvertApp] Converting notebook machine_translation.ipynb to html',\n",
       " '[NbConvertApp] Writing 382223 bytes to machine_translation.html',\n",
       " '[NbConvertApp] Converting notebook mtoriginal.ipynb to html',\n",
       " '[NbConvertApp] Writing 382279 bytes to mtoriginal.html']"
      ]
     },
     "execution_count": 45,
     "metadata": {},
     "output_type": "execute_result"
    }
   ],
   "source": [
    "!!python -m nbconvert *.ipynb"
   ]
  },
  {
   "cell_type": "markdown",
   "metadata": {},
   "source": [
    "## Optional Enhancements\n",
    "\n",
    "This project focuses on learning various network architectures for machine translation, but we don't evaluate the models according to best practices by splitting the data into separate test & training sets -- so the model accuracy is overstated. Use the [`sklearn.model_selection.train_test_split()`](http://scikit-learn.org/stable/modules/generated/sklearn.model_selection.train_test_split.html) function to create separate training & test datasets, then retrain each of the models using only the training set and evaluate the prediction accuracy using the hold out test set. Does the \"best\" model change?"
   ]
  }
 ],
 "metadata": {
  "kernelspec": {
   "display_name": "Python 3",
   "language": "python",
   "name": "python3"
  },
  "language_info": {
   "codemirror_mode": {
    "name": "ipython",
    "version": 3
   },
   "file_extension": ".py",
   "mimetype": "text/x-python",
   "name": "python",
   "nbconvert_exporter": "python",
   "pygments_lexer": "ipython3",
   "version": "3.7.5"
  }
 },
 "nbformat": 4,
 "nbformat_minor": 4
}
