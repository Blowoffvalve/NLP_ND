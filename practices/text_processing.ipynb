{
 "cells": [
  {
   "cell_type": "markdown",
   "metadata": {},
   "source": [
    "# Text Processing\n",
    "\n",
    "## Capturing Text Data\n",
    "\n",
    "### Plain Text"
   ]
  },
  {
   "cell_type": "code",
   "execution_count": 1,
   "metadata": {},
   "outputs": [
    {
     "name": "stdout",
     "output_type": "stream",
     "text": [
      "Hieroglyphic writing dates from c. 3000 BC, and is composed of hundreds of symbols. A hieroglyph can represent a word, a sound, or a silent determinative; and the same symbol can serve different purposes in different contexts. Hieroglyphs were a formal script, used on stone monuments and in tombs, that could be as detailed as individual works of art.\n",
      "\n"
     ]
    }
   ],
   "source": [
    "import os\n",
    "\n",
    "# Read in a plain text file\n",
    "with open(os.path.join(\"data\", \"hieroglyph.txt\"), \"r\") as f:\n",
    "    text = f.read()\n",
    "    print(text)"
   ]
  },
  {
   "cell_type": "markdown",
   "metadata": {},
   "source": [
    "### Tabular Data"
   ]
  },
  {
   "cell_type": "code",
   "execution_count": 2,
   "metadata": {
    "scrolled": true
   },
   "outputs": [
    {
     "data": {
      "text/html": [
       "<div>\n",
       "<style scoped>\n",
       "    .dataframe tbody tr th:only-of-type {\n",
       "        vertical-align: middle;\n",
       "    }\n",
       "\n",
       "    .dataframe tbody tr th {\n",
       "        vertical-align: top;\n",
       "    }\n",
       "\n",
       "    .dataframe thead th {\n",
       "        text-align: right;\n",
       "    }\n",
       "</style>\n",
       "<table border=\"1\" class=\"dataframe\">\n",
       "  <thead>\n",
       "    <tr style=\"text-align: right;\">\n",
       "      <th></th>\n",
       "      <th>publisher</th>\n",
       "      <th>title</th>\n",
       "    </tr>\n",
       "  </thead>\n",
       "  <tbody>\n",
       "    <tr>\n",
       "      <th>0</th>\n",
       "      <td>Livemint</td>\n",
       "      <td>fed's charles plosser sees high bar for change...</td>\n",
       "    </tr>\n",
       "    <tr>\n",
       "      <th>1</th>\n",
       "      <td>IFA Magazine</td>\n",
       "      <td>us open: stocks fall after fed official hints ...</td>\n",
       "    </tr>\n",
       "    <tr>\n",
       "      <th>2</th>\n",
       "      <td>IFA Magazine</td>\n",
       "      <td>fed risks falling 'behind the curve', charles ...</td>\n",
       "    </tr>\n",
       "    <tr>\n",
       "      <th>3</th>\n",
       "      <td>Moneynews</td>\n",
       "      <td>fed's plosser: nasty weather has curbed job gr...</td>\n",
       "    </tr>\n",
       "    <tr>\n",
       "      <th>4</th>\n",
       "      <td>NASDAQ</td>\n",
       "      <td>plosser: fed may have to accelerate tapering pace</td>\n",
       "    </tr>\n",
       "  </tbody>\n",
       "</table>\n",
       "</div>"
      ],
      "text/plain": [
       "      publisher                                              title\n",
       "0      Livemint  fed's charles plosser sees high bar for change...\n",
       "1  IFA Magazine  us open: stocks fall after fed official hints ...\n",
       "2  IFA Magazine  fed risks falling 'behind the curve', charles ...\n",
       "3     Moneynews  fed's plosser: nasty weather has curbed job gr...\n",
       "4        NASDAQ  plosser: fed may have to accelerate tapering pace"
      ]
     },
     "execution_count": 2,
     "metadata": {},
     "output_type": "execute_result"
    }
   ],
   "source": [
    "import pandas as pd\n",
    "\n",
    "# Extract text column from a dataframe\n",
    "df = pd.read_csv(os.path.join(\"data\", \"news.csv\"))\n",
    "df.head()[['publisher', 'title']]\n",
    "\n",
    "# Convert text column to lowercase\n",
    "df['title'] = df['title'].str.lower()\n",
    "df.head()[['publisher', 'title']]"
   ]
  },
  {
   "cell_type": "markdown",
   "metadata": {},
   "source": [
    "### Online Resource"
   ]
  },
  {
   "cell_type": "code",
   "execution_count": 3,
   "metadata": {
    "scrolled": true
   },
   "outputs": [
    {
     "name": "stdout",
     "output_type": "stream",
     "text": [
      "{\n",
      "    \"success\": {\n",
      "        \"total\": 1\n",
      "    },\n",
      "    \"contents\": {\n",
      "        \"quotes\": [\n",
      "            {\n",
      "                \"quote\": \"Your success will not be determined by your gender or your ethnicity, but only on the scope of your dreams and your hard work to achieve them.\",\n",
      "                \"length\": \"142\",\n",
      "                \"author\": \"Zaha Hadid\",\n",
      "                \"tags\": [\n",
      "                    \"dream\",\n",
      "                    \"hard-work\",\n",
      "                    \"inspire\",\n",
      "                    \"tod\"\n",
      "                ],\n",
      "                \"category\": \"inspire\",\n",
      "                \"date\": \"2020-01-04\",\n",
      "                \"permalink\": \"https://theysaidso.com/quote/zaha-hadid-your-success-will-not-be-determined-by-your-gender-or-your-ethnicity\",\n",
      "                \"title\": \"Inspiring Quote of the day\",\n",
      "                \"background\": \"https://theysaidso.com/img/bgs/man_on_the_mountain.jpg\",\n",
      "                \"id\": \"bjY_8j8kCupLt4VShbn9_QeF\"\n",
      "            }\n",
      "        ],\n",
      "        \"copyright\": \"2017-19 theysaidso.com\"\n",
      "    }\n",
      "}\n",
      "Your success will not be determined by your gender or your ethnicity, but only on the scope of your dreams and your hard work to achieve them. \n",
      "-- Zaha Hadid\n"
     ]
    }
   ],
   "source": [
    "import requests\n",
    "import json\n",
    "\n",
    "# Fetch data from a REST API\n",
    "r = requests.get(\n",
    "    \"https://quotes.rest/qod.json\")\n",
    "res = r.json()\n",
    "print(json.dumps(res, indent=4))\n",
    "\n",
    "# Extract relevant object and field\n",
    "q = res[\"contents\"][\"quotes\"][0]\n",
    "print(q[\"quote\"], \"\\n--\", q[\"author\"])"
   ]
  },
  {
   "cell_type": "markdown",
   "metadata": {},
   "source": [
    "## Cleaning"
   ]
  },
  {
   "cell_type": "code",
   "execution_count": 4,
   "metadata": {
    "scrolled": true
   },
   "outputs": [
    {
     "name": "stdout",
     "output_type": "stream",
     "text": [
      "<html op=\"news\"><head><meta name=\"referrer\" content=\"origin\"><meta name=\"viewport\" content=\"width=device-width, initial-scale=1.0\"><link rel=\"stylesheet\" type=\"text/css\" href=\"news.css?X9H2lWrD3uP5ctaTvBnS\">\n",
      "        <link rel=\"shortcut icon\" href=\"favicon.ico\">\n",
      "          <link rel=\"alternate\" type=\"application/rss+xml\" title=\"RSS\" href=\"rss\">\n",
      "        <title>Hacker News</title></head><body><center><table id=\"hnmain\" border=\"0\" cellpadding=\"0\" cellspacing=\"0\" width=\"85%\" bgcolor=\"#f6f6ef\">\n",
      "        <tr><td bgcolor=\"#ff6600\"><table border=\"0\" cellpadding=\"0\" cellspacing=\"0\" width=\"100%\" style=\"padding:2px\"><tr><td style=\"width:18px;padding-right:4px\"><a href=\"https://news.ycombinator.com\"><img src=\"y18.gif\" width=\"18\" height=\"18\" style=\"border:1px white solid;\"></a></td>\n",
      "                  <td style=\"line-height:12pt; height:10px;\"><span class=\"pagetop\"><b class=\"hnname\"><a href=\"news\">Hacker News</a></b>\n",
      "              <a href=\"newest\">new</a> | <a href=\"front\">past</a> | <a href=\"newcomments\">comments</a> | <a href=\"ask\">ask</a> | <a href=\"show\">show</a> | <a href=\"jobs\">jobs</a> | <a href=\"submit\">submit</a>            </span></td><td style=\"text-align:right;padding-right:4px;\"><span class=\"pagetop\">\n",
      "                              <a href=\"login?goto=news\">login</a>\n",
      "                          </span></td>\n",
      "              </tr></table></td></tr>\n",
      "<tr id=\"pagespace\" title=\"\" style=\"height:10px\"></tr><tr><td><table border=\"0\" cellpadding=\"0\" cellspacing=\"0\" class=\"itemlist\">\n",
      "              <tr class='athing' id='21953593'>\n",
      "      <td align=\"right\" valign=\"top\" class=\"title\"><span class=\"rank\">1.</span></td>      <td valign=\"top\" class=\"votelinks\"><center><a id='up_21953593' href='vote?id=21953593&amp;how=up&amp;goto=news'><div class='votearrow' title='upvote'></div></a></center></td><td class=\"title\"><a href=\"https://www.reuters.com/article/us-usa-artificial-intelligence/u-s-government-limits-exports-of-artificial-intelligence-software-idUSKBN1Z21PT\" class=\"storylink\">U.S. government limits exports of artificial intelligence software</a><span class=\"sitebit comhead\"> (<a href=\"from?site=reuters.com\"><span class=\"sitestr\">reuters.com</span></a>)</span></td></tr><tr><td colspan=\"2\"></td><td class=\"subtext\">\n",
      "        <span class=\"score\" id=\"score_21953593\">180 points</span> by <a href=\"user?id=ckcheng\" class=\"hnuser\">ckcheng</a> <span class=\"age\"><a href=\"item?id=21953593\">4 hours ago</a></span> <span id=\"unv_21953593\"></span> | <a href=\"hide?id=21953593&amp;goto=news\">hide</a> | <a href=\"item?id=21953593\">96&nbsp;comments</a>              </td></tr>\n",
      "      <tr class=\"spacer\" style=\"height:5px\"></tr>\n",
      "                <tr class='athing' id='21954006'>\n",
      "      <td align=\"right\" valign=\"top\" class=\"title\"><span class=\"rank\">2.</span></td>      <td valign=\"top\" class=\"votelinks\"><center><a id='up_21954006' href='vote?id=21954006&amp;how=up&amp;goto=news'><div class='votearrow' title='upvote'></div></a></center></td><td class=\"title\"><a href=\"https://patentswarm.com/patents/US10412063B1\" class=\"storylink\">Somebody is trying to patent Signal's double-ratchet crypto</a><span class=\"sitebit comhead\"> (<a href=\"from?site=patentswarm.com\"><span class=\"sitestr\">patentswarm.com</span></a>)</span></td></tr><tr><td colspan=\"2\"></td><td class=\"subtext\">\n",
      "        <span class=\"score\" id=\"score_21954006\">104 points</span> by <a href=\"user?id=DyslexicAtheist\" class=\"hnuser\">DyslexicAtheist</a> <span class=\"age\"><a href=\"item?id=21954006\">2 hours ago</a></span> <span id=\"unv_21954006\"></span> | <a href=\"hide?id=21954006&amp;goto=news\">hide</a> | <a href=\"item?id=21954006\">10&nbsp;comments</a>              </td></tr>\n",
      "      <tr class=\"spacer\" style=\"height:5px\"></tr>\n",
      "                <tr class='athing' id='21953960'>\n",
      "      <td align=\"right\" valign=\"top\" class=\"title\"><span class=\"rank\">3.</span></td>      <td valign=\"top\" class=\"votelinks\"><center><a id='up_21953960' href='vote?id=21953960&amp;how=up&amp;goto=news'><div class='votearrow' title='upvote'></div></a></center></td><td class=\"title\"><a href=\"https://github.com/0x4447/0x4447_product_s3_email\" class=\"storylink\">A serverless email server on AWS using S3 and SES</a><span class=\"sitebit comhead\"> (<a href=\"from?site=github.com\"><span class=\"sitestr\">github.com</span></a>)</span></td></tr><tr><td colspan=\"2\"></td><td class=\"subtext\">\n",
      "        <span class=\"score\" id=\"score_21953960\">77 points</span> by <a href=\"user?id=mzehrer\" class=\"hnuser\">mzehrer</a> <span class=\"age\"><a href=\"item?id=21953960\">2 hours ago</a></span> <span id=\"unv_21953960\"></span> | <a href=\"hide?id=21953960&amp;goto=news\">hide</a> | <a href=\"item?id=21953960\">24&nbsp;comments</a>              </td></tr>\n",
      "      <tr class=\"spacer\" style=\"height:5px\"></tr>\n",
      "                <tr class='athing' id='21953805'>\n",
      "      <td align=\"right\" valign=\"top\" class=\"title\"><span class=\"rank\">4.</span></td>      <td valign=\"top\" class=\"votelinks\"><center><a id='up_21953805' href='vote?id=21953805&amp;how=up&amp;goto=news'><div class='votearrow' title='upvote'></div></a></center></td><td class=\"title\"><a href=\"https://hbr.org/2019/12/why-move-fast-and-break-things-doesnt-work-anymore\" class=\"storylink\">Why “Move Fast and Break Things” Doesn’t Work Anymore</a><span class=\"sitebit comhead\"> (<a href=\"from?site=hbr.org\"><span class=\"sitestr\">hbr.org</span></a>)</span></td></tr><tr><td colspan=\"2\"></td><td class=\"subtext\">\n",
      "        <span class=\"score\" id=\"score_21953805\">33 points</span> by <a href=\"user?id=poliX\" class=\"hnuser\">poliX</a> <span class=\"age\"><a href=\"item?id=21953805\">3 hours ago</a></span> <span id=\"unv_21953805\"></span> | <a href=\"hide?id=21953805&amp;goto=news\">hide</a> | <a href=\"item?id=21953805\">19&nbsp;comments</a>              </td></tr>\n",
      "      <tr class=\"spacer\" style=\"height:5px\"></tr>\n",
      "                <tr class='athing' id='21953604'>\n",
      "      <td align=\"right\" valign=\"top\" class=\"title\"><span class=\"rank\">5.</span></td>      <td valign=\"top\" class=\"votelinks\"><center><a id='up_21953604' href='vote?id=21953604&amp;how=up&amp;goto=news'><div class='votearrow' title='upvote'></div></a></center></td><td class=\"title\"><a href=\"http://www.os2museum.com/wp/ms-os-2-sdk-document-dump/\" class=\"storylink\">MS OS/2 SDK Document Dump</a><span class=\"sitebit comhead\"> (<a href=\"from?site=os2museum.com\"><span class=\"sitestr\">os2museum.com</span></a>)</span></td></tr><tr><td colspan=\"2\"></td><td class=\"subtext\">\n",
      "        <span class=\"score\" id=\"score_21953604\">35 points</span> by <a href=\"user?id=eaguyhn\" class=\"hnuser\">eaguyhn</a> <span class=\"age\"><a href=\"item?id=21953604\">4 hours ago</a></span> <span id=\"unv_21953604\"></span> | <a href=\"hide?id=21953604&amp;goto=news\">hide</a> | <a href=\"item?id=21953604\">3&nbsp;comments</a>              </td></tr>\n",
      "      <tr class=\"spacer\" style=\"height:5px\"></tr>\n",
      "                <tr class='athing' id='21952944'>\n",
      "      <td align=\"right\" valign=\"top\" class=\"title\"><span class=\"rank\">6.</span></td>      <td valign=\"top\" class=\"votelinks\"><center><a id='up_21952944' href='vote?id=21952944&amp;how=up&amp;goto=news'><div class='votearrow' title='upvote'></div></a></center></td><td class=\"title\"><a href=\"http://blog.lareviewofbooks.org/provocations/neophobic-conservative-ai-overlords-want-everything-stay/\" class=\"storylink\">Machine learning is fundamentally conservative</a><span class=\"sitebit comhead\"> (<a href=\"from?site=lareviewofbooks.org\"><span class=\"sitestr\">lareviewofbooks.org</span></a>)</span></td></tr><tr><td colspan=\"2\"></td><td class=\"subtext\">\n",
      "        <span class=\"score\" id=\"score_21952944\">179 points</span> by <a href=\"user?id=macawfish\" class=\"hnuser\">macawfish</a> <span class=\"age\"><a href=\"item?id=21952944\">7 hours ago</a></span> <span id=\"unv_21952944\"></span> | <a href=\"hide?id=21952944&amp;goto=news\">hide</a> | <a href=\"item?id=21952944\">108&nbsp;comments</a>              </td></tr>\n",
      "      <tr class=\"spacer\" style=\"height:5px\"></tr>\n",
      "                <tr class='athing' id='21950558'>\n",
      "      <td align=\"right\" valign=\"top\" class=\"title\"><span class=\"rank\">7.</span></td>      <td valign=\"top\" class=\"votelinks\"><center><a id='up_21950558' href='vote?id=21950558&amp;how=up&amp;goto=news'><div class='votearrow' title='upvote'></div></a></center></td><td class=\"title\"><a href=\"https://blog.codemagic.io/flutter-vs-ios-android-reactnative-xamarin/\" class=\"storylink\">Flutter vs. Other Mobile Development Frameworks: A UI and Performance Experiment</a><span class=\"sitebit comhead\"> (<a href=\"from?site=codemagic.io\"><span class=\"sitestr\">codemagic.io</span></a>)</span></td></tr><tr><td colspan=\"2\"></td><td class=\"subtext\">\n",
      "        <span class=\"score\" id=\"score_21950558\">290 points</span> by <a href=\"user?id=Rubytron\" class=\"hnuser\">Rubytron</a> <span class=\"age\"><a href=\"item?id=21950558\">15 hours ago</a></span> <span id=\"unv_21950558\"></span> | <a href=\"hide?id=21950558&amp;goto=news\">hide</a> | <a href=\"item?id=21950558\">132&nbsp;comments</a>              </td></tr>\n",
      "      <tr class=\"spacer\" style=\"height:5px\"></tr>\n",
      "                <tr class='athing' id='21951692'>\n",
      "      <td align=\"right\" valign=\"top\" class=\"title\"><span class=\"rank\">8.</span></td>      <td valign=\"top\" class=\"votelinks\"><center><a id='up_21951692' href='vote?id=21951692&amp;how=up&amp;goto=news'><div class='votearrow' title='upvote'></div></a></center></td><td class=\"title\"><a href=\"https://github.com/awslabs/amazon-kinesis-video-streams-webrtc-sdk-c\" class=\"storylink\">Show HN: Pure C WebRTC implementation for embedded devices</a><span class=\"sitebit comhead\"> (<a href=\"from?site=github.com\"><span class=\"sitestr\">github.com</span></a>)</span></td></tr><tr><td colspan=\"2\"></td><td class=\"subtext\">\n",
      "        <span class=\"score\" id=\"score_21951692\">183 points</span> by <a href=\"user?id=Sean-Der\" class=\"hnuser\">Sean-Der</a> <span class=\"age\"><a href=\"item?id=21951692\">12 hours ago</a></span> <span id=\"unv_21951692\"></span> | <a href=\"hide?id=21951692&amp;goto=news\">hide</a> | <a href=\"item?id=21951692\">36&nbsp;comments</a>              </td></tr>\n",
      "      <tr class=\"spacer\" style=\"height:5px\"></tr>\n",
      "                <tr class='athing' id='21945393'>\n",
      "      <td align=\"right\" valign=\"top\" class=\"title\"><span class=\"rank\">9.</span></td>      <td valign=\"top\" class=\"votelinks\"><center><a id='up_21945393' href='vote?id=21945393&amp;how=up&amp;goto=news'><div class='votearrow' title='upvote'></div></a></center></td><td class=\"title\"><a href=\"https://pitdicker.github.io/Interior-mutability-patterns/\" class=\"storylink\">Interior Mutability Patterns in Rust</a><span class=\"sitebit comhead\"> (<a href=\"from?site=pitdicker.github.io\"><span class=\"sitestr\">pitdicker.github.io</span></a>)</span></td></tr><tr><td colspan=\"2\"></td><td class=\"subtext\">\n",
      "        <span class=\"score\" id=\"score_21945393\">10 points</span> by <a href=\"user?id=fanf2\" class=\"hnuser\">fanf2</a> <span class=\"age\"><a href=\"item?id=21945393\">2 hours ago</a></span> <span id=\"unv_21945393\"></span> | <a href=\"hide?id=21945393&amp;goto=news\">hide</a> | <a href=\"item?id=21945393\">discuss</a>              </td></tr>\n",
      "      <tr class=\"spacer\" style=\"height:5px\"></tr>\n",
      "                <tr class='athing' id='21945430'>\n",
      "      <td align=\"right\" valign=\"top\" class=\"title\"><span class=\"rank\">10.</span></td>      <td valign=\"top\" class=\"votelinks\"><center><a id='up_21945430' href='vote?id=21945430&amp;how=up&amp;goto=news'><div class='votearrow' title='upvote'></div></a></center></td><td class=\"title\"><a href=\"https://www.newscientist.com/article/2228801-some-starfish-like-animals-see-without-eyes-by-changing-body-colour/\" class=\"storylink\">Some starfish-like animals see without eyes by changing body colour</a><span class=\"sitebit comhead\"> (<a href=\"from?site=newscientist.com\"><span class=\"sitestr\">newscientist.com</span></a>)</span></td></tr><tr><td colspan=\"2\"></td><td class=\"subtext\">\n",
      "        <span class=\"score\" id=\"score_21945430\">15 points</span> by <a href=\"user?id=colinprince\" class=\"hnuser\">colinprince</a> <span class=\"age\"><a href=\"item?id=21945430\">3 hours ago</a></span> <span id=\"unv_21945430\"></span> | <a href=\"hide?id=21945430&amp;goto=news\">hide</a> | <a href=\"item?id=21945430\">discuss</a>              </td></tr>\n",
      "      <tr class=\"spacer\" style=\"height:5px\"></tr>\n",
      "                <tr class='athing' id='21949991'>\n",
      "      <td align=\"right\" valign=\"top\" class=\"title\"><span class=\"rank\">11.</span></td>      <td valign=\"top\" class=\"votelinks\"><center><a id='up_21949991' href='vote?id=21949991&amp;how=up&amp;goto=news'><div class='votearrow' title='upvote'></div></a></center></td><td class=\"title\"><a href=\"https://www.kqed.org/news/11791667/what-are-those-grids-of-glass-in-the-sidewalk-and-why-are-they-purple\" class=\"storylink\">What are those grids of glass in the sidewalk and why are they purple?</a><span class=\"sitebit comhead\"> (<a href=\"from?site=kqed.org\"><span class=\"sitestr\">kqed.org</span></a>)</span></td></tr><tr><td colspan=\"2\"></td><td class=\"subtext\">\n",
      "        <span class=\"score\" id=\"score_21949991\">662 points</span> by <a href=\"user?id=vo2maxer\" class=\"hnuser\">vo2maxer</a> <span class=\"age\"><a href=\"item?id=21949991\">15 hours ago</a></span> <span id=\"unv_21949991\"></span> | <a href=\"hide?id=21949991&amp;goto=news\">hide</a> | <a href=\"item?id=21949991\">98&nbsp;comments</a>              </td></tr>\n",
      "      <tr class=\"spacer\" style=\"height:5px\"></tr>\n",
      "                <tr class='athing' id='21943649'>\n",
      "      <td align=\"right\" valign=\"top\" class=\"title\"><span class=\"rank\">12.</span></td>      <td valign=\"top\" class=\"votelinks\"><center><a id='up_21943649' href='vote?id=21943649&amp;how=up&amp;goto=news'><div class='votearrow' title='upvote'></div></a></center></td><td class=\"title\"><a href=\"https://www.thelightphone.com/\" class=\"storylink\">The Light Phone</a><span class=\"sitebit comhead\"> (<a href=\"from?site=thelightphone.com\"><span class=\"sitestr\">thelightphone.com</span></a>)</span></td></tr><tr><td colspan=\"2\"></td><td class=\"subtext\">\n",
      "        <span class=\"score\" id=\"score_21943649\">191 points</span> by <a href=\"user?id=lelf\" class=\"hnuser\">lelf</a> <span class=\"age\"><a href=\"item?id=21943649\">14 hours ago</a></span> <span id=\"unv_21943649\"></span> | <a href=\"hide?id=21943649&amp;goto=news\">hide</a> | <a href=\"item?id=21943649\">207&nbsp;comments</a>              </td></tr>\n",
      "      <tr class=\"spacer\" style=\"height:5px\"></tr>\n",
      "                <tr class='athing' id='21952461'>\n",
      "      <td align=\"right\" valign=\"top\" class=\"title\"><span class=\"rank\">13.</span></td>      <td valign=\"top\" class=\"votelinks\"><center><a id='up_21952461' href='vote?id=21952461&amp;how=up&amp;goto=news'><div class='votearrow' title='upvote'></div></a></center></td><td class=\"title\"><a href=\"https://github.com/brammool/vim9/blob/master/README.md\" class=\"storylink\">Vim9: An experimental fork of Vim to explore making Vim script faster and better</a><span class=\"sitebit comhead\"> (<a href=\"from?site=github.com\"><span class=\"sitestr\">github.com</span></a>)</span></td></tr><tr><td colspan=\"2\"></td><td class=\"subtext\">\n",
      "        <span class=\"score\" id=\"score_21952461\">92 points</span> by <a href=\"user?id=earenndil\" class=\"hnuser\">earenndil</a> <span class=\"age\"><a href=\"item?id=21952461\">9 hours ago</a></span> <span id=\"unv_21952461\"></span> | <a href=\"hide?id=21952461&amp;goto=news\">hide</a> | <a href=\"item?id=21952461\">45&nbsp;comments</a>              </td></tr>\n",
      "      <tr class=\"spacer\" style=\"height:5px\"></tr>\n",
      "                <tr class='athing' id='21945498'>\n",
      "      <td align=\"right\" valign=\"top\" class=\"title\"><span class=\"rank\">14.</span></td>      <td valign=\"top\" class=\"votelinks\"><center><a id='up_21945498' href='vote?id=21945498&amp;how=up&amp;goto=news'><div class='votearrow' title='upvote'></div></a></center></td><td class=\"title\"><a href=\"https://petsymposium.org/2019/files/papers/issue3/popets-2019-0046.pdf\" class=\"storylink\">Privacy implications of the QUIC protocol [pdf]</a><span class=\"sitebit comhead\"> (<a href=\"from?site=petsymposium.org\"><span class=\"sitestr\">petsymposium.org</span></a>)</span></td></tr><tr><td colspan=\"2\"></td><td class=\"subtext\">\n",
      "        <span class=\"score\" id=\"score_21945498\">22 points</span> by <a href=\"user?id=ivanblagdan\" class=\"hnuser\">ivanblagdan</a> <span class=\"age\"><a href=\"item?id=21945498\">4 hours ago</a></span> <span id=\"unv_21945498\"></span> | <a href=\"hide?id=21945498&amp;goto=news\">hide</a> | <a href=\"item?id=21945498\">2&nbsp;comments</a>              </td></tr>\n",
      "      <tr class=\"spacer\" style=\"height:5px\"></tr>\n",
      "                <tr class='athing' id='21951679'>\n",
      "      <td align=\"right\" valign=\"top\" class=\"title\"><span class=\"rank\">15.</span></td>      <td valign=\"top\" class=\"votelinks\"><center><a id='up_21951679' href='vote?id=21951679&amp;how=up&amp;goto=news'><div class='votearrow' title='upvote'></div></a></center></td><td class=\"title\"><a href=\"https://www.arp242.net/tmux.html\" class=\"storylink\">Scripting tmux</a><span class=\"sitebit comhead\"> (<a href=\"from?site=arp242.net\"><span class=\"sitestr\">arp242.net</span></a>)</span></td></tr><tr><td colspan=\"2\"></td><td class=\"subtext\">\n",
      "        <span class=\"score\" id=\"score_21951679\">130 points</span> by <a href=\"user?id=mplanchard\" class=\"hnuser\">mplanchard</a> <span class=\"age\"><a href=\"item?id=21951679\">12 hours ago</a></span> <span id=\"unv_21951679\"></span> | <a href=\"hide?id=21951679&amp;goto=news\">hide</a> | <a href=\"item?id=21951679\">10&nbsp;comments</a>              </td></tr>\n",
      "      <tr class=\"spacer\" style=\"height:5px\"></tr>\n",
      "                <tr class='athing' id='21951467'>\n",
      "      <td align=\"right\" valign=\"top\" class=\"title\"><span class=\"rank\">16.</span></td>      <td valign=\"top\" class=\"votelinks\"><center><a id='up_21951467' href='vote?id=21951467&amp;how=up&amp;goto=news'><div class='votearrow' title='upvote'></div></a></center></td><td class=\"title\"><a href=\"https://github.com/gokadin/ai-simplest-network\" class=\"storylink\">Show HN: Neural networks tutorial series with code</a><span class=\"sitebit comhead\"> (<a href=\"from?site=github.com\"><span class=\"sitestr\">github.com</span></a>)</span></td></tr><tr><td colspan=\"2\"></td><td class=\"subtext\">\n",
      "        <span class=\"score\" id=\"score_21951467\">70 points</span> by <a href=\"user?id=gokadin\" class=\"hnuser\">gokadin</a> <span class=\"age\"><a href=\"item?id=21951467\">12 hours ago</a></span> <span id=\"unv_21951467\"></span> | <a href=\"hide?id=21951467&amp;goto=news\">hide</a> | <a href=\"item?id=21951467\">6&nbsp;comments</a>              </td></tr>\n",
      "      <tr class=\"spacer\" style=\"height:5px\"></tr>\n",
      "                <tr class='athing' id='21953764'>\n",
      "      <td align=\"right\" valign=\"top\" class=\"title\"><span class=\"rank\">17.</span></td>      <td valign=\"top\" class=\"votelinks\"><center><a id='up_21953764' href='vote?id=21953764&amp;how=up&amp;goto=news'><div class='votearrow' title='upvote'></div></a></center></td><td class=\"title\"><a href=\"https://iscracked.info/statistics_denuvo\" class=\"storylink\">Average Denuvo cracking time is now 75 days</a><span class=\"sitebit comhead\"> (<a href=\"from?site=iscracked.info\"><span class=\"sitestr\">iscracked.info</span></a>)</span></td></tr><tr><td colspan=\"2\"></td><td class=\"subtext\">\n",
      "        <span class=\"score\" id=\"score_21953764\">60 points</span> by <a href=\"user?id=BethGagaShaggy\" class=\"hnuser\">BethGagaShaggy</a> <span class=\"age\"><a href=\"item?id=21953764\">3 hours ago</a></span> <span id=\"unv_21953764\"></span> | <a href=\"hide?id=21953764&amp;goto=news\">hide</a> | <a href=\"item?id=21953764\">47&nbsp;comments</a>              </td></tr>\n",
      "      <tr class=\"spacer\" style=\"height:5px\"></tr>\n",
      "                <tr class='athing' id='21948698'>\n",
      "      <td align=\"right\" valign=\"top\" class=\"title\"><span class=\"rank\">18.</span></td>      <td valign=\"top\" class=\"votelinks\"><center><a id='up_21948698' href='vote?id=21948698&amp;how=up&amp;goto=news'><div class='votearrow' title='upvote'></div></a></center></td><td class=\"title\"><a href=\"https://d2l.ai/\" class=\"storylink\">Dive into Deep Learning</a><span class=\"sitebit comhead\"> (<a href=\"from?site=d2l.ai\"><span class=\"sitestr\">d2l.ai</span></a>)</span></td></tr><tr><td colspan=\"2\"></td><td class=\"subtext\">\n",
      "        <span class=\"score\" id=\"score_21948698\">423 points</span> by <a href=\"user?id=soohyung\" class=\"hnuser\">soohyung</a> <span class=\"age\"><a href=\"item?id=21948698\">18 hours ago</a></span> <span id=\"unv_21948698\"></span> | <a href=\"hide?id=21948698&amp;goto=news\">hide</a> | <a href=\"item?id=21948698\">75&nbsp;comments</a>              </td></tr>\n",
      "      <tr class=\"spacer\" style=\"height:5px\"></tr>\n",
      "                <tr class='athing' id='21951468'>\n",
      "      <td align=\"right\" valign=\"top\" class=\"title\"><span class=\"rank\">19.</span></td>      <td valign=\"top\" class=\"votelinks\"><center><a id='up_21951468' href='vote?id=21951468&amp;how=up&amp;goto=news'><div class='votearrow' title='upvote'></div></a></center></td><td class=\"title\"><a href=\"https://www.robertputt.co.uk/learn-from-your-attackers-ssh-honeypot/\" class=\"storylink\">Learn from your attackers with a high interactivity SSH Honey Pot</a><span class=\"sitebit comhead\"> (<a href=\"from?site=robertputt.co.uk\"><span class=\"sitestr\">robertputt.co.uk</span></a>)</span></td></tr><tr><td colspan=\"2\"></td><td class=\"subtext\">\n",
      "        <span class=\"score\" id=\"score_21951468\">56 points</span> by <a href=\"user?id=robputt796\" class=\"hnuser\">robputt796</a> <span class=\"age\"><a href=\"item?id=21951468\">12 hours ago</a></span> <span id=\"unv_21951468\"></span> | <a href=\"hide?id=21951468&amp;goto=news\">hide</a> | <a href=\"item?id=21951468\">14&nbsp;comments</a>              </td></tr>\n",
      "      <tr class=\"spacer\" style=\"height:5px\"></tr>\n",
      "                <tr class='athing' id='21953295'>\n",
      "      <td align=\"right\" valign=\"top\" class=\"title\"><span class=\"rank\">20.</span></td>      <td valign=\"top\" class=\"votelinks\"><center><a id='up_21953295' href='vote?id=21953295&amp;how=up&amp;goto=news'><div class='votearrow' title='upvote'></div></a></center></td><td class=\"title\"><a href=\"https://www.npr.org/2019/01/31/690363402/how-the-cia-overthrew-irans-democracy-in-four-days\" class=\"storylink\">How the CIA Overthrew Iran's Democracy in Four Days in 1953 (2019)</a><span class=\"sitebit comhead\"> (<a href=\"from?site=npr.org\"><span class=\"sitestr\">npr.org</span></a>)</span></td></tr><tr><td colspan=\"2\"></td><td class=\"subtext\">\n",
      "        <span class=\"score\" id=\"score_21953295\">100 points</span> by <a href=\"user?id=pilsner\" class=\"hnuser\">pilsner</a> <span class=\"age\"><a href=\"item?id=21953295\">5 hours ago</a></span> <span id=\"unv_21953295\"></span> | <a href=\"hide?id=21953295&amp;goto=news\">hide</a> | <a href=\"item?id=21953295\">59&nbsp;comments</a>              </td></tr>\n",
      "      <tr class=\"spacer\" style=\"height:5px\"></tr>\n",
      "                <tr class='athing' id='21943975'>\n",
      "      <td align=\"right\" valign=\"top\" class=\"title\"><span class=\"rank\">21.</span></td>      <td valign=\"top\" class=\"votelinks\"><center><a id='up_21943975' href='vote?id=21943975&amp;how=up&amp;goto=news'><div class='votearrow' title='upvote'></div></a></center></td><td class=\"title\"><a href=\"https://blogs.uoregon.edu/autismhistoryproject/\" class=\"storylink\">The Autism History Project</a><span class=\"sitebit comhead\"> (<a href=\"from?site=uoregon.edu\"><span class=\"sitestr\">uoregon.edu</span></a>)</span></td></tr><tr><td colspan=\"2\"></td><td class=\"subtext\">\n",
      "        <span class=\"score\" id=\"score_21943975\">75 points</span> by <a href=\"user?id=Hooke\" class=\"hnuser\">Hooke</a> <span class=\"age\"><a href=\"item?id=21943975\">15 hours ago</a></span> <span id=\"unv_21943975\"></span> | <a href=\"hide?id=21943975&amp;goto=news\">hide</a> | <a href=\"item?id=21943975\">2&nbsp;comments</a>              </td></tr>\n",
      "      <tr class=\"spacer\" style=\"height:5px\"></tr>\n",
      "                <tr class='athing' id='21944573'>\n",
      "      <td align=\"right\" valign=\"top\" class=\"title\"><span class=\"rank\">22.</span></td>      <td valign=\"top\" class=\"votelinks\"><center><a id='up_21944573' href='vote?id=21944573&amp;how=up&amp;goto=news'><div class='votearrow' title='upvote'></div></a></center></td><td class=\"title\"><a href=\"https://github.com/s-macke/VoxelSpace\" class=\"storylink\">Terrain rendering algorithm in less than 20 lines of code</a><span class=\"sitebit comhead\"> (<a href=\"from?site=github.com\"><span class=\"sitestr\">github.com</span></a>)</span></td></tr><tr><td colspan=\"2\"></td><td class=\"subtext\">\n",
      "        <span class=\"score\" id=\"score_21944573\">651 points</span> by <a href=\"user?id=netgusto\" class=\"hnuser\">netgusto</a> <span class=\"age\"><a href=\"item?id=21944573\">1 day ago</a></span> <span id=\"unv_21944573\"></span> | <a href=\"hide?id=21944573&amp;goto=news\">hide</a> | <a href=\"item?id=21944573\">107&nbsp;comments</a>              </td></tr>\n",
      "      <tr class=\"spacer\" style=\"height:5px\"></tr>\n",
      "                <tr class='athing' id='21951241'>\n",
      "      <td align=\"right\" valign=\"top\" class=\"title\"><span class=\"rank\">23.</span></td>      <td valign=\"top\" class=\"votelinks\"><center><a id='up_21951241' href='vote?id=21951241&amp;how=up&amp;goto=news'><div class='votearrow' title='upvote'></div></a></center></td><td class=\"title\"><a href=\"https://github.com/mat-sz/pongloader\" class=\"storylink\">Show HN: Pong in 512 bytes (boot sector)</a><span class=\"sitebit comhead\"> (<a href=\"from?site=github.com\"><span class=\"sitestr\">github.com</span></a>)</span></td></tr><tr><td colspan=\"2\"></td><td class=\"subtext\">\n",
      "        <span class=\"score\" id=\"score_21951241\">59 points</span> by <a href=\"user?id=matsz\" class=\"hnuser\">matsz</a> <span class=\"age\"><a href=\"item?id=21951241\">13 hours ago</a></span> <span id=\"unv_21951241\"></span> | <a href=\"hide?id=21951241&amp;goto=news\">hide</a> | <a href=\"item?id=21951241\">19&nbsp;comments</a>              </td></tr>\n",
      "      <tr class=\"spacer\" style=\"height:5px\"></tr>\n",
      "                <tr class='athing' id='21948132'>\n",
      "      <td align=\"right\" valign=\"top\" class=\"title\"><span class=\"rank\">24.</span></td>      <td valign=\"top\" class=\"votelinks\"><center><a id='up_21948132' href='vote?id=21948132&amp;how=up&amp;goto=news'><div class='votearrow' title='upvote'></div></a></center></td><td class=\"title\"><a href=\"http://hackeducation.com/2019/12/31/what-a-shitshow\" class=\"storylink\">Worst Ed-Tech Debacles of the Decade</a><span class=\"sitebit comhead\"> (<a href=\"from?site=hackeducation.com\"><span class=\"sitestr\">hackeducation.com</span></a>)</span></td></tr><tr><td colspan=\"2\"></td><td class=\"subtext\">\n",
      "        <span class=\"score\" id=\"score_21948132\">113 points</span> by <a href=\"user?id=danso\" class=\"hnuser\">danso</a> <span class=\"age\"><a href=\"item?id=21948132\">12 hours ago</a></span> <span id=\"unv_21948132\"></span> | <a href=\"hide?id=21948132&amp;goto=news\">hide</a> | <a href=\"item?id=21948132\">103&nbsp;comments</a>              </td></tr>\n",
      "      <tr class=\"spacer\" style=\"height:5px\"></tr>\n",
      "                <tr class='athing' id='21950475'>\n",
      "      <td align=\"right\" valign=\"top\" class=\"title\"><span class=\"rank\">25.</span></td>      <td valign=\"top\" class=\"votelinks\"><center><a id='up_21950475' href='vote?id=21950475&amp;how=up&amp;goto=news'><div class='votearrow' title='upvote'></div></a></center></td><td class=\"title\"><a href=\"https://objective-see.com/blog/blog_0x53.html\" class=\"storylink\">The Mac Malware of 2019</a><span class=\"sitebit comhead\"> (<a href=\"from?site=objective-see.com\"><span class=\"sitestr\">objective-see.com</span></a>)</span></td></tr><tr><td colspan=\"2\"></td><td class=\"subtext\">\n",
      "        <span class=\"score\" id=\"score_21950475\">39 points</span> by <a href=\"user?id=thecosas\" class=\"hnuser\">thecosas</a> <span class=\"age\"><a href=\"item?id=21950475\">15 hours ago</a></span> <span id=\"unv_21950475\"></span> | <a href=\"hide?id=21950475&amp;goto=news\">hide</a> | <a href=\"item?id=21950475\">1&nbsp;comment</a>              </td></tr>\n",
      "      <tr class=\"spacer\" style=\"height:5px\"></tr>\n",
      "                <tr class='athing' id='21952809'>\n",
      "      <td align=\"right\" valign=\"top\" class=\"title\"><span class=\"rank\">26.</span></td>      <td valign=\"top\" class=\"votelinks\"><center><a id='up_21952809' href='vote?id=21952809&amp;how=up&amp;goto=news'><div class='votearrow' title='upvote'></div></a></center></td><td class=\"title\"><a href=\"https://twitter.com/kwuchu/status/1213306146225823749\" class=\"storylink\">Stripe Atlas Vendor Leaked SSNs</a><span class=\"sitebit comhead\"> (<a href=\"from?site=twitter.com\"><span class=\"sitestr\">twitter.com</span></a>)</span></td></tr><tr><td colspan=\"2\"></td><td class=\"subtext\">\n",
      "        <span class=\"score\" id=\"score_21952809\">89 points</span> by <a href=\"user?id=sunils34\" class=\"hnuser\">sunils34</a> <span class=\"age\"><a href=\"item?id=21952809\">8 hours ago</a></span> <span id=\"unv_21952809\"></span> | <a href=\"hide?id=21952809&amp;goto=news\">hide</a> | <a href=\"item?id=21952809\">22&nbsp;comments</a>              </td></tr>\n",
      "      <tr class=\"spacer\" style=\"height:5px\"></tr>\n",
      "                <tr class='athing' id='21950967'>\n",
      "      <td align=\"right\" valign=\"top\" class=\"title\"><span class=\"rank\">27.</span></td>      <td valign=\"top\" class=\"votelinks\"><center><a id='up_21950967' href='vote?id=21950967&amp;how=up&amp;goto=news'><div class='votearrow' title='upvote'></div></a></center></td><td class=\"title\"><a href=\"https://www.sec.gov/Archives/edgar/data/1404123/000119312520001429/d806726ds1.htm\" class=\"storylink\">One Medical S-1</a><span class=\"sitebit comhead\"> (<a href=\"from?site=sec.gov\"><span class=\"sitestr\">sec.gov</span></a>)</span></td></tr><tr><td colspan=\"2\"></td><td class=\"subtext\">\n",
      "        <span class=\"score\" id=\"score_21950967\">122 points</span> by <a href=\"user?id=coloneltcb\" class=\"hnuser\">coloneltcb</a> <span class=\"age\"><a href=\"item?id=21950967\">14 hours ago</a></span> <span id=\"unv_21950967\"></span> | <a href=\"hide?id=21950967&amp;goto=news\">hide</a> | <a href=\"item?id=21950967\">88&nbsp;comments</a>              </td></tr>\n",
      "      <tr class=\"spacer\" style=\"height:5px\"></tr>\n",
      "                <tr class='athing' id='21950608'>\n",
      "      <td align=\"right\" valign=\"top\" class=\"title\"><span class=\"rank\">28.</span></td>      <td valign=\"top\" class=\"votelinks\"><center><a id='up_21950608' href='vote?id=21950608&amp;how=up&amp;goto=news'><div class='votearrow' title='upvote'></div></a></center></td><td class=\"title\"><a href=\"https://blog.coinbase.com/what-will-happen-to-cryptocurrency-in-the-2020s-d93746744a8f\" class=\"storylink\">Cryptocurrency in the 2020s</a><span class=\"sitebit comhead\"> (<a href=\"from?site=coinbase.com\"><span class=\"sitestr\">coinbase.com</span></a>)</span></td></tr><tr><td colspan=\"2\"></td><td class=\"subtext\">\n",
      "        <span class=\"score\" id=\"score_21950608\">134 points</span> by <a href=\"user?id=openmosix\" class=\"hnuser\">openmosix</a> <span class=\"age\"><a href=\"item?id=21950608\">14 hours ago</a></span> <span id=\"unv_21950608\"></span> | <a href=\"hide?id=21950608&amp;goto=news\">hide</a> | <a href=\"item?id=21950608\">209&nbsp;comments</a>              </td></tr>\n",
      "      <tr class=\"spacer\" style=\"height:5px\"></tr>\n",
      "                <tr class='athing' id='21945110'>\n",
      "      <td align=\"right\" valign=\"top\" class=\"title\"><span class=\"rank\">29.</span></td>      <td valign=\"top\" class=\"votelinks\"><center><a id='up_21945110' href='vote?id=21945110&amp;how=up&amp;goto=news'><div class='votearrow' title='upvote'></div></a></center></td><td class=\"title\"><a href=\"https://phys.org/news/2020-01-evidence-tool-seabirds.html\" class=\"storylink\">First evidence found of tool use by seabirds</a><span class=\"sitebit comhead\"> (<a href=\"from?site=phys.org\"><span class=\"sitestr\">phys.org</span></a>)</span></td></tr><tr><td colspan=\"2\"></td><td class=\"subtext\">\n",
      "        <span class=\"score\" id=\"score_21945110\">116 points</span> by <a href=\"user?id=dnetesn\" class=\"hnuser\">dnetesn</a> <span class=\"age\"><a href=\"item?id=21945110\">16 hours ago</a></span> <span id=\"unv_21945110\"></span> | <a href=\"hide?id=21945110&amp;goto=news\">hide</a> | <a href=\"item?id=21945110\">20&nbsp;comments</a>              </td></tr>\n",
      "      <tr class=\"spacer\" style=\"height:5px\"></tr>\n",
      "                <tr class='athing' id='21936234'>\n",
      "      <td align=\"right\" valign=\"top\" class=\"title\"><span class=\"rank\">30.</span></td>      <td valign=\"top\" class=\"votelinks\"><center><a id='up_21936234' href='vote?id=21936234&amp;how=up&amp;goto=news'><div class='votearrow' title='upvote'></div></a></center></td><td class=\"title\"><a href=\"https://news.ycombinator.com/item?id=1025681\" class=\"storylink\">Ask HN: A New Decade. Any Predictions? (2010)</a><span class=\"sitebit comhead\"> (<a href=\"from?site=ycombinator.com\"><span class=\"sitestr\">ycombinator.com</span></a>)</span></td></tr><tr><td colspan=\"2\"></td><td class=\"subtext\">\n",
      "        <span class=\"score\" id=\"score_21936234\">858 points</span> by <a href=\"user?id=tcharlton\" class=\"hnuser\">tcharlton</a> <span class=\"age\"><a href=\"item?id=21936234\">1 day ago</a></span> <span id=\"unv_21936234\"></span> | <a href=\"hide?id=21936234&amp;goto=news\">hide</a> | <a href=\"item?id=21936234\">410&nbsp;comments</a>              </td></tr>\n",
      "      <tr class=\"spacer\" style=\"height:5px\"></tr>\n",
      "            <tr class=\"morespace\" style=\"height:10px\"></tr><tr><td colspan=\"2\"></td><td class=\"title\"><a href=\"news?p=2\" class=\"morelink\" rel=\"next\">More</a></td></tr>\n",
      "  </table>\n",
      "</td></tr>\n",
      "<tr><td><img src=\"s.gif\" height=\"10\" width=\"0\"><table width=\"100%\" cellspacing=\"0\" cellpadding=\"1\"><tr><td bgcolor=\"#ff6600\"></td></tr></table><br><center><span class=\"yclinks\"><a href=\"newsguidelines.html\">Guidelines</a>\n",
      "        | <a href=\"newsfaq.html\">FAQ</a>\n",
      "        | <a href=\"mailto:hn@ycombinator.com\">Support</a>\n",
      "        | <a href=\"https://github.com/HackerNews/API\">API</a>\n",
      "        | <a href=\"security.html\">Security</a>\n",
      "        | <a href=\"lists\">Lists</a>\n",
      "        | <a href=\"bookmarklet.html\" rel=\"nofollow\">Bookmarklet</a>\n",
      "        | <a href=\"http://www.ycombinator.com/legal/\">Legal</a>\n",
      "        | <a href=\"http://www.ycombinator.com/apply/\">Apply to YC</a>\n",
      "        | <a href=\"mailto:hn@ycombinator.com\">Contact</a></span><br><br><form method=\"get\" action=\"//hn.algolia.com/\">Search:\n",
      "          <input type=\"text\" name=\"q\" value=\"\" size=\"17\" autocorrect=\"off\" spellcheck=\"false\" autocapitalize=\"off\" autocomplete=\"false\"></form>\n",
      "            </center></td></tr>\n",
      "      </table></center></body><script type='text/javascript' src='hn.js?X9H2lWrD3uP5ctaTvBnS'></script></html>\n",
      "\n"
     ]
    }
   ],
   "source": [
    "import requests\n",
    "\n",
    "# Fetch a web page\n",
    "r = requests.get(\"https://news.ycombinator.com\")\n",
    "print(r.text)"
   ]
  },
  {
   "cell_type": "code",
   "execution_count": 5,
   "metadata": {},
   "outputs": [
    {
     "name": "stdout",
     "output_type": "stream",
     "text": [
      "\n",
      "        \n",
      "          \n",
      "        Hacker News\n",
      "        \n",
      "                  Hacker News\n",
      "              new | past | comments | ask | show | jobs | submit            \n",
      "                              login\n",
      "                          \n",
      "              \n",
      "\n",
      "              \n",
      "      1.      U.S. government limits exports of artificial intelligence software (reuters.com)\n",
      "        180 points by ckcheng 4 hours ago  | hide | 96&nbsp;comments              \n",
      "      \n",
      "                \n",
      "      2.      Somebody is trying to patent Signal's double-ratchet crypto (patentswarm.com)\n",
      "        104 points by DyslexicAtheist 2 hours ago  | hide | 10&nbsp;comments              \n",
      "      \n",
      "                \n",
      "      3.      A serverless email server on AWS using S3 and SES (github.com)\n",
      "        77 points by mzehrer 2 hours ago  | hide | 24&nbsp;comments              \n",
      "      \n",
      "                \n",
      "      4.      Why “Move Fast and Break Things” Doesn’t Work Anymore (hbr.org)\n",
      "        33 points by poliX 3 hours ago  | hide | 19&nbsp;comments              \n",
      "      \n",
      "                \n",
      "      5.      MS OS/2 SDK Document Dump (os2museum.com)\n",
      "        35 points by eaguyhn 4 hours ago  | hide | 3&nbsp;comments              \n",
      "      \n",
      "                \n",
      "      6.      Machine learning is fundamentally conservative (lareviewofbooks.org)\n",
      "        179 points by macawfish 7 hours ago  | hide | 108&nbsp;comments              \n",
      "      \n",
      "                \n",
      "      7.      Flutter vs. Other Mobile Development Frameworks: A UI and Performance Experiment (codemagic.io)\n",
      "        290 points by Rubytron 15 hours ago  | hide | 132&nbsp;comments              \n",
      "      \n",
      "                \n",
      "      8.      Show HN: Pure C WebRTC implementation for embedded devices (github.com)\n",
      "        183 points by Sean-Der 12 hours ago  | hide | 36&nbsp;comments              \n",
      "      \n",
      "                \n",
      "      9.      Interior Mutability Patterns in Rust (pitdicker.github.io)\n",
      "        10 points by fanf2 2 hours ago  | hide | discuss              \n",
      "      \n",
      "                \n",
      "      10.      Some starfish-like animals see without eyes by changing body colour (newscientist.com)\n",
      "        15 points by colinprince 3 hours ago  | hide | discuss              \n",
      "      \n",
      "                \n",
      "      11.      What are those grids of glass in the sidewalk and why are they purple? (kqed.org)\n",
      "        662 points by vo2maxer 15 hours ago  | hide | 98&nbsp;comments              \n",
      "      \n",
      "                \n",
      "      12.      The Light Phone (thelightphone.com)\n",
      "        191 points by lelf 14 hours ago  | hide | 207&nbsp;comments              \n",
      "      \n",
      "                \n",
      "      13.      Vim9: An experimental fork of Vim to explore making Vim script faster and better (github.com)\n",
      "        92 points by earenndil 9 hours ago  | hide | 45&nbsp;comments              \n",
      "      \n",
      "                \n",
      "      14.      Privacy implications of the QUIC protocol [pdf] (petsymposium.org)\n",
      "        22 points by ivanblagdan 4 hours ago  | hide | 2&nbsp;comments              \n",
      "      \n",
      "                \n",
      "      15.      Scripting tmux (arp242.net)\n",
      "        130 points by mplanchard 12 hours ago  | hide | 10&nbsp;comments              \n",
      "      \n",
      "                \n",
      "      16.      Show HN: Neural networks tutorial series with code (github.com)\n",
      "        70 points by gokadin 12 hours ago  | hide | 6&nbsp;comments              \n",
      "      \n",
      "                \n",
      "      17.      Average Denuvo cracking time is now 75 days (iscracked.info)\n",
      "        60 points by BethGagaShaggy 3 hours ago  | hide | 47&nbsp;comments              \n",
      "      \n",
      "                \n",
      "      18.      Dive into Deep Learning (d2l.ai)\n",
      "        423 points by soohyung 18 hours ago  | hide | 75&nbsp;comments              \n",
      "      \n",
      "                \n",
      "      19.      Learn from your attackers with a high interactivity SSH Honey Pot (robertputt.co.uk)\n",
      "        56 points by robputt796 12 hours ago  | hide | 14&nbsp;comments              \n",
      "      \n",
      "                \n",
      "      20.      How the CIA Overthrew Iran's Democracy in Four Days in 1953 (2019) (npr.org)\n",
      "        100 points by pilsner 5 hours ago  | hide | 59&nbsp;comments              \n",
      "      \n",
      "                \n",
      "      21.      The Autism History Project (uoregon.edu)\n",
      "        75 points by Hooke 15 hours ago  | hide | 2&nbsp;comments              \n",
      "      \n",
      "                \n",
      "      22.      Terrain rendering algorithm in less than 20 lines of code (github.com)\n",
      "        651 points by netgusto 1 day ago  | hide | 107&nbsp;comments              \n",
      "      \n",
      "                \n",
      "      23.      Show HN: Pong in 512 bytes (boot sector) (github.com)\n",
      "        59 points by matsz 13 hours ago  | hide | 19&nbsp;comments              \n",
      "      \n",
      "                \n",
      "      24.      Worst Ed-Tech Debacles of the Decade (hackeducation.com)\n",
      "        113 points by danso 12 hours ago  | hide | 103&nbsp;comments              \n",
      "      \n",
      "                \n",
      "      25.      The Mac Malware of 2019 (objective-see.com)\n",
      "        39 points by thecosas 15 hours ago  | hide | 1&nbsp;comment              \n",
      "      \n",
      "                \n",
      "      26.      Stripe Atlas Vendor Leaked SSNs (twitter.com)\n",
      "        89 points by sunils34 8 hours ago  | hide | 22&nbsp;comments              \n",
      "      \n",
      "                \n",
      "      27.      One Medical S-1 (sec.gov)\n",
      "        122 points by coloneltcb 14 hours ago  | hide | 88&nbsp;comments              \n",
      "      \n",
      "                \n",
      "      28.      Cryptocurrency in the 2020s (coinbase.com)\n",
      "        134 points by openmosix 14 hours ago  | hide | 209&nbsp;comments              \n",
      "      \n",
      "                \n",
      "      29.      First evidence found of tool use by seabirds (phys.org)\n",
      "        116 points by dnetesn 16 hours ago  | hide | 20&nbsp;comments              \n",
      "      \n",
      "                \n",
      "      30.      Ask HN: A New Decade. Any Predictions? (2010) (ycombinator.com)\n",
      "        858 points by tcharlton 1 day ago  | hide | 410&nbsp;comments              \n",
      "      \n",
      "            More\n",
      "  \n",
      "\n",
      "Guidelines\n",
      "        | FAQ\n",
      "        | Support\n",
      "        | API\n",
      "        | Security\n",
      "        | Lists\n",
      "        | Bookmarklet\n",
      "        | Legal\n",
      "        | Apply to YC\n",
      "        | ContactSearch:\n",
      "          \n",
      "            \n",
      "      \n",
      "\n"
     ]
    }
   ],
   "source": [
    "import re\n",
    "\n",
    "# Remove HTML tags using RegEx\n",
    "pattern = re.compile(r'<.*?>')  # tags look like <...>\n",
    "print(pattern.sub('', r.text))  # replace them with blank"
   ]
  },
  {
   "cell_type": "code",
   "execution_count": 6,
   "metadata": {},
   "outputs": [
    {
     "name": "stdout",
     "output_type": "stream",
     "text": [
      "\n",
      "        \n",
      "          \n",
      "        Hacker News\n",
      "        \n",
      "                  Hacker News\n",
      "              new | past | comments | ask | show | jobs | submit            \n",
      "                              login\n",
      "                          \n",
      "              \n",
      "\n",
      "              \n",
      "      1.      U.S. government limits exports of artificial intelligence software (reuters.com)\n",
      "        180 points by ckcheng 4 hours ago  | hide | 96 comments              \n",
      "      \n",
      "                \n",
      "      2.      Somebody is trying to patent Signal's double-ratchet crypto (patentswarm.com)\n",
      "        104 points by DyslexicAtheist 2 hours ago  | hide | 10 comments              \n",
      "      \n",
      "                \n",
      "      3.      A serverless email server on AWS using S3 and SES (github.com)\n",
      "        77 points by mzehrer 2 hours ago  | hide | 24 comments              \n",
      "      \n",
      "                \n",
      "      4.      Why “Move Fast and Break Things” Doesn’t Work Anymore (hbr.org)\n",
      "        33 points by poliX 3 hours ago  | hide | 19 comments              \n",
      "      \n",
      "                \n",
      "      5.      MS OS/2 SDK Document Dump (os2museum.com)\n",
      "        35 points by eaguyhn 4 hours ago  | hide | 3 comments              \n",
      "      \n",
      "                \n",
      "      6.      Machine learning is fundamentally conservative (lareviewofbooks.org)\n",
      "        179 points by macawfish 7 hours ago  | hide | 108 comments              \n",
      "      \n",
      "                \n",
      "      7.      Flutter vs. Other Mobile Development Frameworks: A UI and Performance Experiment (codemagic.io)\n",
      "        290 points by Rubytron 15 hours ago  | hide | 132 comments              \n",
      "      \n",
      "                \n",
      "      8.      Show HN: Pure C WebRTC implementation for embedded devices (github.com)\n",
      "        183 points by Sean-Der 12 hours ago  | hide | 36 comments              \n",
      "      \n",
      "                \n",
      "      9.      Interior Mutability Patterns in Rust (pitdicker.github.io)\n",
      "        10 points by fanf2 2 hours ago  | hide | discuss              \n",
      "      \n",
      "                \n",
      "      10.      Some starfish-like animals see without eyes by changing body colour (newscientist.com)\n",
      "        15 points by colinprince 3 hours ago  | hide | discuss              \n",
      "      \n",
      "                \n",
      "      11.      What are those grids of glass in the sidewalk and why are they purple? (kqed.org)\n",
      "        662 points by vo2maxer 15 hours ago  | hide | 98 comments              \n",
      "      \n",
      "                \n",
      "      12.      The Light Phone (thelightphone.com)\n",
      "        191 points by lelf 14 hours ago  | hide | 207 comments              \n",
      "      \n",
      "                \n",
      "      13.      Vim9: An experimental fork of Vim to explore making Vim script faster and better (github.com)\n",
      "        92 points by earenndil 9 hours ago  | hide | 45 comments              \n",
      "      \n",
      "                \n",
      "      14.      Privacy implications of the QUIC protocol [pdf] (petsymposium.org)\n",
      "        22 points by ivanblagdan 4 hours ago  | hide | 2 comments              \n",
      "      \n",
      "                \n",
      "      15.      Scripting tmux (arp242.net)\n",
      "        130 points by mplanchard 12 hours ago  | hide | 10 comments              \n",
      "      \n",
      "                \n",
      "      16.      Show HN: Neural networks tutorial series with code (github.com)\n",
      "        70 points by gokadin 12 hours ago  | hide | 6 comments              \n",
      "      \n",
      "                \n",
      "      17.      Average Denuvo cracking time is now 75 days (iscracked.info)\n",
      "        60 points by BethGagaShaggy 3 hours ago  | hide | 47 comments              \n",
      "      \n",
      "                \n",
      "      18.      Dive into Deep Learning (d2l.ai)\n",
      "        423 points by soohyung 18 hours ago  | hide | 75 comments              \n",
      "      \n",
      "                \n",
      "      19.      Learn from your attackers with a high interactivity SSH Honey Pot (robertputt.co.uk)\n",
      "        56 points by robputt796 12 hours ago  | hide | 14 comments              \n",
      "      \n",
      "                \n",
      "      20.      How the CIA Overthrew Iran's Democracy in Four Days in 1953 (2019) (npr.org)\n",
      "        100 points by pilsner 5 hours ago  | hide | 59 comments              \n",
      "      \n",
      "                \n",
      "      21.      The Autism History Project (uoregon.edu)\n",
      "        75 points by Hooke 15 hours ago  | hide | 2 comments              \n",
      "      \n",
      "                \n",
      "      22.      Terrain rendering algorithm in less than 20 lines of code (github.com)\n",
      "        651 points by netgusto 1 day ago  | hide | 107 comments              \n",
      "      \n",
      "                \n",
      "      23.      Show HN: Pong in 512 bytes (boot sector) (github.com)\n",
      "        59 points by matsz 13 hours ago  | hide | 19 comments              \n",
      "      \n",
      "                \n",
      "      24.      Worst Ed-Tech Debacles of the Decade (hackeducation.com)\n",
      "        113 points by danso 12 hours ago  | hide | 103 comments              \n",
      "      \n",
      "                \n",
      "      25.      The Mac Malware of 2019 (objective-see.com)\n",
      "        39 points by thecosas 15 hours ago  | hide | 1 comment              \n",
      "      \n",
      "                \n",
      "      26.      Stripe Atlas Vendor Leaked SSNs (twitter.com)\n",
      "        89 points by sunils34 8 hours ago  | hide | 22 comments              \n",
      "      \n",
      "                \n",
      "      27.      One Medical S-1 (sec.gov)\n",
      "        122 points by coloneltcb 14 hours ago  | hide | 88 comments              \n",
      "      \n",
      "                \n",
      "      28.      Cryptocurrency in the 2020s (coinbase.com)\n",
      "        134 points by openmosix 14 hours ago  | hide | 209 comments              \n",
      "      \n",
      "                \n",
      "      29.      First evidence found of tool use by seabirds (phys.org)\n",
      "        116 points by dnetesn 16 hours ago  | hide | 20 comments              \n",
      "      \n",
      "                \n",
      "      30.      Ask HN: A New Decade. Any Predictions? (2010) (ycombinator.com)\n",
      "        858 points by tcharlton 1 day ago  | hide | 410 comments              \n",
      "      \n",
      "            More\n",
      "  \n",
      "\n",
      "Guidelines\n",
      "        | FAQ\n",
      "        | Support\n",
      "        | API\n",
      "        | Security\n",
      "        | Lists\n",
      "        | Bookmarklet\n",
      "        | Legal\n",
      "        | Apply to YC\n",
      "        | ContactSearch:\n",
      "          \n",
      "            \n",
      "      \n",
      "\n"
     ]
    }
   ],
   "source": [
    "from bs4 import BeautifulSoup\n",
    "#ab/workspaces/auto-I\n",
    "# Remove HTML tags using Beautiful Soup library\n",
    "soup = BeautifulSoup(r.text, \"html5lib\")\n",
    "print(soup.get_text())"
   ]
  },
  {
   "cell_type": "code",
   "execution_count": 7,
   "metadata": {
    "scrolled": true
   },
   "outputs": [
    {
     "data": {
      "text/plain": [
       "<tr class=\"athing\" id=\"21953593\">\n",
       "      <td align=\"right\" class=\"title\" valign=\"top\"><span class=\"rank\">1.</span></td>      <td class=\"votelinks\" valign=\"top\"><center><a href=\"vote?id=21953593&amp;how=up&amp;goto=news\" id=\"up_21953593\"><div class=\"votearrow\" title=\"upvote\"></div></a></center></td><td class=\"title\"><a class=\"storylink\" href=\"https://www.reuters.com/article/us-usa-artificial-intelligence/u-s-government-limits-exports-of-artificial-intelligence-software-idUSKBN1Z21PT\">U.S. government limits exports of artificial intelligence software</a><span class=\"sitebit comhead\"> (<a href=\"from?site=reuters.com\"><span class=\"sitestr\">reuters.com</span></a>)</span></td></tr>"
      ]
     },
     "execution_count": 7,
     "metadata": {},
     "output_type": "execute_result"
    }
   ],
   "source": [
    "# Find all articles\n",
    "summaries = soup.find_all(\"tr\", class_=\"athing\")\n",
    "summaries[0]"
   ]
  },
  {
   "cell_type": "code",
   "execution_count": 8,
   "metadata": {},
   "outputs": [
    {
     "data": {
      "text/plain": [
       "'U.S. government limits exports of artificial intelligence software'"
      ]
     },
     "execution_count": 8,
     "metadata": {},
     "output_type": "execute_result"
    }
   ],
   "source": [
    "# Extract title\n",
    "summaries[0].find(\"a\", class_=\"storylink\").get_text().strip()"
   ]
  },
  {
   "cell_type": "code",
   "execution_count": 9,
   "metadata": {},
   "outputs": [
    {
     "name": "stdout",
     "output_type": "stream",
     "text": [
      "30 Article summaries found. Sample:\n",
      "U.S. government limits exports of artificial intelligence software\n"
     ]
    }
   ],
   "source": [
    "# Find all articles, extract titles\n",
    "articles = []\n",
    "summaries = soup.find_all(\"tr\", class_=\"athing\")\n",
    "for summary in summaries:\n",
    "    title = summary.find(\"a\", class_=\"storylink\").get_text().strip()\n",
    "    articles.append((title))\n",
    "\n",
    "print(len(articles), \"Article summaries found. Sample:\")\n",
    "print(articles[0])"
   ]
  },
  {
   "cell_type": "markdown",
   "metadata": {},
   "source": [
    "## Normalization"
   ]
  },
  {
   "cell_type": "markdown",
   "metadata": {},
   "source": [
    "### Case Normalization"
   ]
  },
  {
   "cell_type": "code",
   "execution_count": 10,
   "metadata": {},
   "outputs": [
    {
     "name": "stdout",
     "output_type": "stream",
     "text": [
      "The first time you see The Second Renaissance it may look boring. Look at it at least twice and definitely watch part 2. It will change your view of the matrix. Are the human people the ones who started the war ? Is AI a bad thing ?\n"
     ]
    }
   ],
   "source": [
    "# Sample text\n",
    "text = \"The first time you see The Second Renaissance it may look boring. Look at it at least twice and definitely watch part 2. It will change your view of the matrix. Are the human people the ones who started the war ? Is AI a bad thing ?\"\n",
    "print(text)"
   ]
  },
  {
   "cell_type": "code",
   "execution_count": 11,
   "metadata": {},
   "outputs": [
    {
     "name": "stdout",
     "output_type": "stream",
     "text": [
      "the first time you see the second renaissance it may look boring. look at it at least twice and definitely watch part 2. it will change your view of the matrix. are the human people the ones who started the war ? is ai a bad thing ?\n"
     ]
    }
   ],
   "source": [
    "# Convert to lowercase\n",
    "text = text.lower() \n",
    "print(text)"
   ]
  },
  {
   "cell_type": "markdown",
   "metadata": {},
   "source": [
    "### Punctuation Removal"
   ]
  },
  {
   "cell_type": "code",
   "execution_count": 12,
   "metadata": {},
   "outputs": [
    {
     "name": "stdout",
     "output_type": "stream",
     "text": [
      "the first time you see the second renaissance it may look boring  look at it at least twice and definitely watch part 2  it will change your view of the matrix  are the human people the ones who started the war   is ai a bad thing  \n"
     ]
    }
   ],
   "source": [
    "import re\n",
    "\n",
    "# Remove punctuation characters\n",
    "text = re.sub(r\"[^a-zA-Z0-9]\", \" \", text) \n",
    "print(text)"
   ]
  },
  {
   "cell_type": "markdown",
   "metadata": {},
   "source": [
    "## Tokenization"
   ]
  },
  {
   "cell_type": "code",
   "execution_count": 13,
   "metadata": {},
   "outputs": [
    {
     "name": "stdout",
     "output_type": "stream",
     "text": [
      "['the', 'first', 'time', 'you', 'see', 'the', 'second', 'renaissance', 'it', 'may', 'look', 'boring', 'look', 'at', 'it', 'at', 'least', 'twice', 'and', 'definitely', 'watch', 'part', '2', 'it', 'will', 'change', 'your', 'view', 'of', 'the', 'matrix', 'are', 'the', 'human', 'people', 'the', 'ones', 'who', 'started', 'the', 'war', 'is', 'ai', 'a', 'bad', 'thing']\n"
     ]
    }
   ],
   "source": [
    "# Split text into tokens (words)\n",
    "words = text.split()\n",
    "print(words)"
   ]
  },
  {
   "cell_type": "markdown",
   "metadata": {},
   "source": [
    "### NLTK: Natural Language ToolKit"
   ]
  },
  {
   "cell_type": "code",
   "execution_count": 14,
   "metadata": {},
   "outputs": [],
   "source": [
    "import os\n",
    "import nltk\n",
    "nltk.data.path.append(os.path.join(os.getcwd(), \"nltk_data\"))"
   ]
  },
  {
   "cell_type": "code",
   "execution_count": 15,
   "metadata": {},
   "outputs": [
    {
     "name": "stdout",
     "output_type": "stream",
     "text": [
      "Dr. Smith graduated from the University of Washington. He later started an analytics firm called Lux, which catered to enterprise customers.\n"
     ]
    }
   ],
   "source": [
    "# Another sample text\n",
    "text = \"Dr. Smith graduated from the University of Washington. He later started an analytics firm called Lux, which catered to enterprise customers.\"\n",
    "print(text)"
   ]
  },
  {
   "cell_type": "code",
   "execution_count": 16,
   "metadata": {},
   "outputs": [
    {
     "name": "stdout",
     "output_type": "stream",
     "text": [
      "['Dr.', 'Smith', 'graduated', 'from', 'the', 'University', 'of', 'Washington', '.', 'He', 'later', 'started', 'an', 'analytics', 'firm', 'called', 'Lux', ',', 'which', 'catered', 'to', 'enterprise', 'customers', '.']\n"
     ]
    }
   ],
   "source": [
    "from nltk.tokenize import word_tokenize\n",
    "\n",
    "# Split text into words using NLTK\n",
    "words = word_tokenize(text)\n",
    "print(words)"
   ]
  },
  {
   "cell_type": "code",
   "execution_count": 17,
   "metadata": {},
   "outputs": [
    {
     "name": "stdout",
     "output_type": "stream",
     "text": [
      "['Dr. Smith graduated from the University of Washington.', 'He later started an analytics firm called Lux, which catered to enterprise customers.']\n"
     ]
    }
   ],
   "source": [
    "from nltk.tokenize import sent_tokenize\n",
    "\n",
    "# Split text into sentences\n",
    "sentences = sent_tokenize(text)\n",
    "print(sentences)"
   ]
  },
  {
   "cell_type": "code",
   "execution_count": 18,
   "metadata": {},
   "outputs": [
    {
     "name": "stdout",
     "output_type": "stream",
     "text": [
      "['i', 'me', 'my', 'myself', 'we', 'our', 'ours', 'ourselves', 'you', \"you're\", \"you've\", \"you'll\", \"you'd\", 'your', 'yours', 'yourself', 'yourselves', 'he', 'him', 'his', 'himself', 'she', \"she's\", 'her', 'hers', 'herself', 'it', \"it's\", 'its', 'itself', 'they', 'them', 'their', 'theirs', 'themselves', 'what', 'which', 'who', 'whom', 'this', 'that', \"that'll\", 'these', 'those', 'am', 'is', 'are', 'was', 'were', 'be', 'been', 'being', 'have', 'has', 'had', 'having', 'do', 'does', 'did', 'doing', 'a', 'an', 'the', 'and', 'but', 'if', 'or', 'because', 'as', 'until', 'while', 'of', 'at', 'by', 'for', 'with', 'about', 'against', 'between', 'into', 'through', 'during', 'before', 'after', 'above', 'below', 'to', 'from', 'up', 'down', 'in', 'out', 'on', 'off', 'over', 'under', 'again', 'further', 'then', 'once', 'here', 'there', 'when', 'where', 'why', 'how', 'all', 'any', 'both', 'each', 'few', 'more', 'most', 'other', 'some', 'such', 'no', 'nor', 'not', 'only', 'own', 'same', 'so', 'than', 'too', 'very', 's', 't', 'can', 'will', 'just', 'don', \"don't\", 'should', \"should've\", 'now', 'd', 'll', 'm', 'o', 're', 've', 'y', 'ain', 'aren', \"aren't\", 'couldn', \"couldn't\", 'didn', \"didn't\", 'doesn', \"doesn't\", 'hadn', \"hadn't\", 'hasn', \"hasn't\", 'haven', \"haven't\", 'isn', \"isn't\", 'ma', 'mightn', \"mightn't\", 'mustn', \"mustn't\", 'needn', \"needn't\", 'shan', \"shan't\", 'shouldn', \"shouldn't\", 'wasn', \"wasn't\", 'weren', \"weren't\", 'won', \"won't\", 'wouldn', \"wouldn't\"]\n"
     ]
    }
   ],
   "source": [
    "# List stop words\n",
    "from nltk.corpus import stopwords\n",
    "print(stopwords.words(\"english\"))"
   ]
  },
  {
   "cell_type": "code",
   "execution_count": 19,
   "metadata": {},
   "outputs": [
    {
     "name": "stdout",
     "output_type": "stream",
     "text": [
      "['the', 'first', 'time', 'you', 'see', 'the', 'second', 'renaissance', 'it', 'may', 'look', 'boring', 'look', 'at', 'it', 'at', 'least', 'twice', 'and', 'definitely', 'watch', 'part', '2', 'it', 'will', 'change', 'your', 'view', 'of', 'the', 'matrix', 'are', 'the', 'human', 'people', 'the', 'ones', 'who', 'started', 'the', 'war', 'is', 'ai', 'a', 'bad', 'thing']\n"
     ]
    }
   ],
   "source": [
    "# Reset text\n",
    "text = \"\"\"The first time you see The Second Renaissance it may look boring. \n",
    "Look at it at least twice and definitely watch part 2. It will change your view of the matrix. \n",
    "Are the human people the ones who started the war ? Is AI a bad thing ?\"\"\"\n",
    "\n",
    "# Normalize it\n",
    "text = re.sub(r\"[^a-zA-Z0-9]\", \" \", text.lower())\n",
    "# Tokenize it\n",
    "words = text.split()\n",
    "print(words)"
   ]
  },
  {
   "cell_type": "code",
   "execution_count": 20,
   "metadata": {},
   "outputs": [
    {
     "name": "stdout",
     "output_type": "stream",
     "text": [
      "['first', 'time', 'see', 'second', 'renaissance', 'may', 'look', 'boring', 'look', 'least', 'twice', 'definitely', 'watch', 'part', '2', 'change', 'view', 'matrix', 'human', 'people', 'ones', 'started', 'war', 'ai', 'bad', 'thing']\n"
     ]
    }
   ],
   "source": [
    "# Remove stop words\n",
    "words = [w for w in words if w not in stopwords.words(\"english\")]\n",
    "print(words)"
   ]
  },
  {
   "cell_type": "markdown",
   "metadata": {},
   "source": [
    "### Sentence Parsing"
   ]
  },
  {
   "cell_type": "code",
   "execution_count": 27,
   "metadata": {},
   "outputs": [
    {
     "name": "stdout",
     "output_type": "stream",
     "text": [
      "(S\n",
      "  (NP I)\n",
      "  (VP\n",
      "    (VP (V shot) (NP (Det an) (N elephant)))\n",
      "    (PP (P in) (NP (Det my) (N pajamas)))))\n",
      "(S\n",
      "  (NP I)\n",
      "  (VP\n",
      "    (V shot)\n",
      "    (NP (Det an) (N elephant) (PP (P in) (NP (Det my) (N pajamas))))))\n"
     ]
    }
   ],
   "source": [
    "import nltk\n",
    "\n",
    "# Define a custom grammar\n",
    "my_grammar = nltk.CFG.fromstring(\"\"\"\n",
    "S -> NP VP\n",
    "PP -> P NP\n",
    "NP -> Det N | Det N PP | 'I'\n",
    "VP -> V NP | VP PP\n",
    "Det -> 'an' | 'my'\n",
    "N -> 'elephant' | 'pajamas'\n",
    "V -> 'shot'\n",
    "P -> 'in'\n",
    "\"\"\")\n",
    "parser = nltk.ChartParser(my_grammar)\n",
    "\n",
    "# Parse a sentence\n",
    "sentence = word_tokenize(\"I shot an elephant in my pajamas\")\n",
    "for tree in parser.parse(sentence):\n",
    "    print(tree)"
   ]
  },
  {
   "cell_type": "markdown",
   "metadata": {},
   "source": [
    "## Stemming & Lemmatization\n",
    "\n",
    "### Stemming"
   ]
  },
  {
   "cell_type": "code",
   "execution_count": 29,
   "metadata": {},
   "outputs": [
    {
     "name": "stdout",
     "output_type": "stream",
     "text": [
      "['first', 'time', 'see', 'second', 'renaiss', 'may', 'look', 'bore', 'look', 'least', 'twice', 'definit', 'watch', 'part', '2', 'chang', 'view', 'matrix', 'human', 'peopl', 'one', 'start', 'war', 'ai', 'bad', 'thing']\n"
     ]
    }
   ],
   "source": [
    "from nltk.stem.porter import PorterStemmer\n",
    "\n",
    "# Reduce words to their stems\n",
    "stemmed = [PorterStemmer().stem(w) for w in words]\n",
    "print(stemmed)"
   ]
  },
  {
   "cell_type": "markdown",
   "metadata": {},
   "source": [
    "### Lemmatization"
   ]
  },
  {
   "cell_type": "code",
   "execution_count": 30,
   "metadata": {},
   "outputs": [
    {
     "name": "stdout",
     "output_type": "stream",
     "text": [
      "['first', 'time', 'see', 'second', 'renaissance', 'may', 'look', 'boring', 'look', 'least', 'twice', 'definitely', 'watch', 'part', '2', 'change', 'view', 'matrix', 'human', 'people', 'one', 'started', 'war', 'ai', 'bad', 'thing']\n"
     ]
    }
   ],
   "source": [
    "from nltk.stem.wordnet import WordNetLemmatizer\n",
    "\n",
    "# Reduce words to their root form\n",
    "lemmed = [WordNetLemmatizer().lemmatize(w) for w in words]\n",
    "print(lemmed)"
   ]
  },
  {
   "cell_type": "code",
   "execution_count": 31,
   "metadata": {},
   "outputs": [
    {
     "name": "stdout",
     "output_type": "stream",
     "text": [
      "['first', 'time', 'see', 'second', 'renaissance', 'may', 'look', 'bore', 'look', 'least', 'twice', 'definitely', 'watch', 'part', '2', 'change', 'view', 'matrix', 'human', 'people', 'one', 'start', 'war', 'ai', 'bad', 'thing']\n"
     ]
    }
   ],
   "source": [
    "# Lemmatize verbs by specifying pos\n",
    "lemmed = [WordNetLemmatizer().lemmatize(w, pos='v') for w in lemmed]\n",
    "print(lemmed)"
   ]
  },
  {
   "cell_type": "code",
   "execution_count": null,
   "metadata": {},
   "outputs": [],
   "source": []
  }
 ],
 "metadata": {
  "kernelspec": {
   "display_name": "Python 3",
   "language": "python",
   "name": "python3"
  },
  "language_info": {
   "codemirror_mode": {
    "name": "ipython",
    "version": 3
   },
   "file_extension": ".py",
   "mimetype": "text/x-python",
   "name": "python",
   "nbconvert_exporter": "python",
   "pygments_lexer": "ipython3",
   "version": "3.7.5"
  }
 },
 "nbformat": 4,
 "nbformat_minor": 4
}
